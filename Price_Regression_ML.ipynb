{
 "cells": [
  {
   "cell_type": "markdown",
   "metadata": {
    "pycharm": {
     "name": "#%% md\n"
    }
   },
   "source": [
    "# Electronic Computing Device Price Prediction Using Machine Learning\n",
    "Author: Zhuo Fan Chen(P2100746) | Singapore Polytechnic"
   ]
  },
  {
   "cell_type": "markdown",
   "metadata": {
    "pycharm": {
     "name": "#%% md\n"
    }
   },
   "source": [
    "## Problem Statement\n",
    "How can we make use of machine learning to help potential computer buyers and vendors to evaluate market price/worth of a computer?\n",
    "\n",
    "## Problem Understanding\n",
    "\n",
    "Before launch of an electronic computing product ,the specifications of the products are usually leaked out.With a price predictor,potential consumers will be able to know its estimate price and make a more informed decision when deciding whether to purchase the product.\n",
    "\n",
    "Additionally,many computers buyers do not know the market price of the computer of that specification and bought the product from external vendors at an overpriced price.Therefore, a price predictor can allow these buyers to have a rough estimation on the average price of product of similar specifications and decide whether is it worth to make the purchase.\n",
    "\n",
    "\n",
    "Lastly ,it also allows electronic product manufacture to have a rough estimate of the market price of this type of product.\n",
    "\n",
    "\n",
    "A price of a computer may depend on many factors.Such factors include:Central unit processor(CPU),RAM size,brand etc.\n",
    "\n",
    "In this investigation,we will evaluate a regression model that has the highest performance in predicting the price of computers based on the relevant features.\n"
   ]
  },
  {
   "cell_type": "markdown",
   "metadata": {
    "pycharm": {
     "name": "#%% md\n"
    }
   },
   "source": [
    "## Import Dependencies"
   ]
  },
  {
   "cell_type": "code",
   "execution_count": 1,
   "metadata": {
    "pycharm": {
     "name": "#%%\n"
    }
   },
   "outputs": [
    {
     "name": "stdout",
     "output_type": "stream",
     "text": [
      "Requirement already satisfied: numpy in c:\\programdata\\anaconda3\\lib\\site-packages (1.19.5)\n",
      "Requirement already satisfied: matplotlib in c:\\programdata\\anaconda3\\lib\\site-packages (3.1.3)\n",
      "Requirement already satisfied: pandas in c:\\programdata\\anaconda3\\lib\\site-packages (1.0.1)\n",
      "Requirement already satisfied: seaborn in c:\\programdata\\anaconda3\\lib\\site-packages (0.10.0)\n",
      "Requirement already satisfied: scikit-learn==1.0.2 in c:\\users\\p2100746\\appdata\\roaming\\python\\python37\\site-packages (1.0.2)\n",
      "Requirement already satisfied: yellowbrick in c:\\users\\p2100746\\appdata\\roaming\\python\\python37\\site-packages (1.4)\n",
      "Requirement already satisfied: phik in c:\\users\\p2100746\\appdata\\roaming\\python\\python37\\site-packages (0.12.2)\n",
      "Requirement already satisfied: statsmodels in c:\\programdata\\anaconda3\\lib\\site-packages (0.11.0)\n",
      "Requirement already satisfied: pyampute in c:\\users\\p2100746\\appdata\\roaming\\python\\python37\\site-packages (0.0.2)\n",
      "Requirement already satisfied: xgboost in c:\\users\\p2100746\\appdata\\roaming\\python\\python37\\site-packages (1.6.1)\n",
      "Requirement already satisfied: imblearn in c:\\programdata\\anaconda3\\lib\\site-packages (0.0)\n",
      "Requirement already satisfied: missingno in c:\\users\\p2100746\\appdata\\roaming\\python\\python37\\site-packages (0.5.1)\n",
      "Requirement already satisfied: tqdm in c:\\programdata\\anaconda3\\lib\\site-packages (4.42.1)\n",
      "Requirement already satisfied: mlxtend in c:\\users\\p2100746\\appdata\\roaming\\python\\python37\\site-packages (0.19.0)\n",
      "Requirement already satisfied: category-encoders in c:\\programdata\\anaconda3\\lib\\site-packages (2.4.1)\n",
      "Requirement already satisfied: cycler>=0.10 in c:\\programdata\\anaconda3\\lib\\site-packages (from matplotlib) (0.10.0)\n",
      "Requirement already satisfied: kiwisolver>=1.0.1 in c:\\programdata\\anaconda3\\lib\\site-packages (from matplotlib) (1.1.0)\n",
      "Requirement already satisfied: pyparsing!=2.0.4,!=2.1.2,!=2.1.6,>=2.0.1 in c:\\programdata\\anaconda3\\lib\\site-packages (from matplotlib) (2.4.6)\n",
      "Requirement already satisfied: python-dateutil>=2.1 in c:\\programdata\\anaconda3\\lib\\site-packages (from matplotlib) (2.8.1)\n",
      "Requirement already satisfied: pytz>=2017.2 in c:\\programdata\\anaconda3\\lib\\site-packages (from pandas) (2019.3)\n",
      "Requirement already satisfied: scipy>=1.0.1 in c:\\programdata\\anaconda3\\lib\\site-packages (from seaborn) (1.4.1)\n",
      "Requirement already satisfied: joblib>=0.11 in c:\\programdata\\anaconda3\\lib\\site-packages (from scikit-learn==1.0.2) (0.14.1)\n",
      "Requirement already satisfied: threadpoolctl>=2.0.0 in c:\\programdata\\anaconda3\\lib\\site-packages (from scikit-learn==1.0.2) (3.0.0)\n",
      "Requirement already satisfied: patsy>=0.5 in c:\\programdata\\anaconda3\\lib\\site-packages (from statsmodels) (0.5.1)\n",
      "Requirement already satisfied: imbalanced-learn in c:\\programdata\\anaconda3\\lib\\site-packages (from imblearn) (0.9.0)\n",
      "Requirement already satisfied: setuptools in c:\\programdata\\anaconda3\\lib\\site-packages (from mlxtend) (45.2.0.post20200210)\n",
      "Requirement already satisfied: six in c:\\programdata\\anaconda3\\lib\\site-packages (from cycler>=0.10->matplotlib) (1.15.0)\n"
     ]
    }
   ],
   "source": [
    "!pip install numpy matplotlib pandas seaborn scikit-learn==1.0.2 yellowbrick phik statsmodels pyampute xgboost imblearn missingno tqdm mlxtend category-encoders"
   ]
  },
  {
   "cell_type": "code",
   "execution_count": 2,
   "metadata": {
    "pycharm": {
     "name": "#%%\n"
    }
   },
   "outputs": [
    {
     "name": "stderr",
     "output_type": "stream",
     "text": [
      "C:\\Users\\p2100746\\AppData\\Roaming\\Python\\Python37\\site-packages\\sklearn\\experimental\\enable_hist_gradient_boosting.py:17: UserWarning: Since version 1.0, it is not needed to import enable_hist_gradient_boosting anymore. HistGradientBoostingClassifier and HistGradientBoostingRegressor are now stable and can be normally imported from sklearn.ensemble.\n",
      "  \"Since version 1.0, \"\n"
     ]
    }
   ],
   "source": [
    "import numpy as np\n",
    "import scipy as sp\n",
    "import matplotlib.pyplot as plt\n",
    "import pandas as pd\n",
    "import seaborn as sns\n",
    "from tqdm import tqdm\n",
    "sns.set()\n",
    "\n",
    "import phik\n",
    "# Experimental\n",
    "from sklearn.experimental import enable_halving_search_cv, enable_hist_gradient_boosting\n",
    "\n",
    "# Base Classes\n",
    "from sklearn.base import BaseEstimator, TransformerMixin\n",
    "\n",
    "# Model Evaluation\n",
    "from sklearn.model_selection import train_test_split, cross_validate, KFold\n",
    "from yellowbrick.model_selection import learning_curve\n",
    "from statsmodels.api import qqplot\n",
    "from sklearn.inspection import permutation_importance\n",
    "from sklearn.metrics import mean_absolute_error, mean_absolute_percentage_error, r2_score, mean_squared_error\n",
    "\n",
    "# Data Preprocessing\n",
    "from sklearn.pipeline import Pipeline\n",
    "from sklearn.compose import ColumnTransformer, TransformedTargetRegressor\n",
    "from sklearn.preprocessing import StandardScaler, RobustScaler, MinMaxScaler, QuantileTransformer, PolynomialFeatures, OneHotEncoder, PowerTransformer\n",
    "from sklearn.impute import MissingIndicator, SimpleImputer\n",
    "from sklearn.decomposition import PCA\n",
    "from sklearn.cluster import FeatureAgglomeration\n",
    "\n",
    "# Models\n",
    "from sklearn.dummy import DummyRegressor\n",
    "from sklearn.linear_model import LinearRegression, Ridge, Lasso\n",
    "from sklearn.tree import DecisionTreeRegressor\n",
    "from sklearn.ensemble import RandomForestRegressor, ExtraTreesRegressor, GradientBoostingRegressor, HistGradientBoostingRegressor\n",
    "from sklearn.svm import LinearSVR\n",
    "\n",
    "# Hyperparameter Tuning\n",
    "from sklearn.model_selection import HalvingRandomSearchCV, HalvingGridSearchCV, validation_curve, RandomizedSearchCV\n",
    "\n",
    "\n",
    "# Feature Selection\n",
    "from sklearn.feature_selection import SelectFromModel, RFECV, SelectKBest, VarianceThreshold, mutual_info_regression, RFE"
   ]
  },
  {
   "cell_type": "markdown",
   "metadata": {
    "pycharm": {
     "name": "#%% md\n"
    }
   },
   "source": [
    "## Data Ingestion"
   ]
  },
  {
   "cell_type": "code",
   "execution_count": 3,
   "metadata": {
    "pycharm": {
     "name": "#%%\n"
    }
   },
   "outputs": [
    {
     "data": {
      "text/html": [
       "<div>\n",
       "<style scoped>\n",
       "    .dataframe tbody tr th:only-of-type {\n",
       "        vertical-align: middle;\n",
       "    }\n",
       "\n",
       "    .dataframe tbody tr th {\n",
       "        vertical-align: top;\n",
       "    }\n",
       "\n",
       "    .dataframe thead th {\n",
       "        text-align: right;\n",
       "    }\n",
       "</style>\n",
       "<table border=\"1\" class=\"dataframe\">\n",
       "  <thead>\n",
       "    <tr style=\"text-align: right;\">\n",
       "      <th></th>\n",
       "      <th>Product ID</th>\n",
       "      <th>Brand</th>\n",
       "      <th>Type</th>\n",
       "      <th>Screen Size</th>\n",
       "      <th>Screen Specs</th>\n",
       "      <th>CPU</th>\n",
       "      <th>RAM</th>\n",
       "      <th>Hard Disk</th>\n",
       "      <th>GPU</th>\n",
       "      <th>Operating System</th>\n",
       "      <th>Weight</th>\n",
       "      <th>Price ($)</th>\n",
       "    </tr>\n",
       "  </thead>\n",
       "  <tbody>\n",
       "    <tr>\n",
       "      <th>0</th>\n",
       "      <td>0</td>\n",
       "      <td>Apple</td>\n",
       "      <td>Ultrabook</td>\n",
       "      <td>13.3</td>\n",
       "      <td>IPS Panel Retina Display 2560x1600</td>\n",
       "      <td>Intel Core i5 2.3GHz</td>\n",
       "      <td>8GB</td>\n",
       "      <td>128GB SSD</td>\n",
       "      <td>Intel Iris Plus Graphics 640</td>\n",
       "      <td>macOS</td>\n",
       "      <td>1.37kg</td>\n",
       "      <td>3568.93416</td>\n",
       "    </tr>\n",
       "    <tr>\n",
       "      <th>1</th>\n",
       "      <td>1</td>\n",
       "      <td>Apple</td>\n",
       "      <td>Ultrabook</td>\n",
       "      <td>13.3</td>\n",
       "      <td>1440x900</td>\n",
       "      <td>Intel Core i5 1.8GHz</td>\n",
       "      <td>8GB</td>\n",
       "      <td>128GB Flash Storage</td>\n",
       "      <td>Intel HD Graphics 6000</td>\n",
       "      <td>macOS</td>\n",
       "      <td>1.34kg</td>\n",
       "      <td>2394.77616</td>\n",
       "    </tr>\n",
       "    <tr>\n",
       "      <th>2</th>\n",
       "      <td>2</td>\n",
       "      <td>HP</td>\n",
       "      <td>Notebook</td>\n",
       "      <td>15.6</td>\n",
       "      <td>Full HD 1920x1080</td>\n",
       "      <td>Intel Core i5 7200U 2.5GHz</td>\n",
       "      <td>8GB</td>\n",
       "      <td>256GB SSD</td>\n",
       "      <td>Intel HD Graphics 620</td>\n",
       "      <td>No OS</td>\n",
       "      <td>1.86kg</td>\n",
       "      <td>1531.80000</td>\n",
       "    </tr>\n",
       "    <tr>\n",
       "      <th>3</th>\n",
       "      <td>3</td>\n",
       "      <td>Apple</td>\n",
       "      <td>Ultrabook</td>\n",
       "      <td>15.4</td>\n",
       "      <td>IPS Panel Retina Display 2880x1800</td>\n",
       "      <td>Intel Core i7 2.7GHz</td>\n",
       "      <td>16GB</td>\n",
       "      <td>512GB SSD</td>\n",
       "      <td>AMD Radeon Pro 455</td>\n",
       "      <td>macOS</td>\n",
       "      <td>1.83kg</td>\n",
       "      <td>6759.76680</td>\n",
       "    </tr>\n",
       "    <tr>\n",
       "      <th>4</th>\n",
       "      <td>4</td>\n",
       "      <td>Apple</td>\n",
       "      <td>Ultrabook</td>\n",
       "      <td>13.3</td>\n",
       "      <td>IPS Panel Retina Display 2560x1600</td>\n",
       "      <td>Intel Core i5 3.1GHz</td>\n",
       "      <td>8GB</td>\n",
       "      <td>256GB SSD</td>\n",
       "      <td>Intel Iris Plus Graphics 650</td>\n",
       "      <td>macOS</td>\n",
       "      <td>1.37kg</td>\n",
       "      <td>4804.79040</td>\n",
       "    </tr>\n",
       "    <tr>\n",
       "      <th>...</th>\n",
       "      <td>...</td>\n",
       "      <td>...</td>\n",
       "      <td>...</td>\n",
       "      <td>...</td>\n",
       "      <td>...</td>\n",
       "      <td>...</td>\n",
       "      <td>...</td>\n",
       "      <td>...</td>\n",
       "      <td>...</td>\n",
       "      <td>...</td>\n",
       "      <td>...</td>\n",
       "      <td>...</td>\n",
       "    </tr>\n",
       "    <tr>\n",
       "      <th>15315</th>\n",
       "      <td>15315</td>\n",
       "      <td>Lenovo</td>\n",
       "      <td>2 in 1 Convertible</td>\n",
       "      <td>14.0</td>\n",
       "      <td>IPS Panel Full HD / Touchscreen 1920x1080</td>\n",
       "      <td>Intel Core i7 6500U 2.5GHz</td>\n",
       "      <td>4GB</td>\n",
       "      <td>128GB SSD</td>\n",
       "      <td>Intel HD Graphics 520</td>\n",
       "      <td>Windows 10</td>\n",
       "      <td>1.8kg</td>\n",
       "      <td>1706.40200</td>\n",
       "    </tr>\n",
       "    <tr>\n",
       "      <th>15316</th>\n",
       "      <td>15316</td>\n",
       "      <td>Lenovo</td>\n",
       "      <td>2 in 1 Convertible</td>\n",
       "      <td>13.3</td>\n",
       "      <td>IPS Panel Quad HD+ / Touchscreen 3200x1800</td>\n",
       "      <td>Intel Core i7 6500U 2.5GHz</td>\n",
       "      <td>16GB</td>\n",
       "      <td>512GB SSD</td>\n",
       "      <td>Intel HD Graphics 520</td>\n",
       "      <td>Windows 10</td>\n",
       "      <td>1.3kg</td>\n",
       "      <td>4000.10600</td>\n",
       "    </tr>\n",
       "    <tr>\n",
       "      <th>15317</th>\n",
       "      <td>15317</td>\n",
       "      <td>Lenovo</td>\n",
       "      <td>Notebook</td>\n",
       "      <td>14.0</td>\n",
       "      <td>1366x768</td>\n",
       "      <td>Intel Celeron Dual Core N3050 1.6GHz</td>\n",
       "      <td>2GB</td>\n",
       "      <td>64GB Flash Storage</td>\n",
       "      <td>Intel HD Graphics</td>\n",
       "      <td>Windows 10</td>\n",
       "      <td>1.5kg</td>\n",
       "      <td>616.82600</td>\n",
       "    </tr>\n",
       "    <tr>\n",
       "      <th>15318</th>\n",
       "      <td>15318</td>\n",
       "      <td>HP</td>\n",
       "      <td>Notebook</td>\n",
       "      <td>15.6</td>\n",
       "      <td>1366x768</td>\n",
       "      <td>Intel Core i7 6500U 2.5GHz</td>\n",
       "      <td>6GB</td>\n",
       "      <td>1TB HDD</td>\n",
       "      <td>AMD Radeon R5 M330</td>\n",
       "      <td>Windows 10</td>\n",
       "      <td>2.19kg</td>\n",
       "      <td>2042.06600</td>\n",
       "    </tr>\n",
       "    <tr>\n",
       "      <th>15319</th>\n",
       "      <td>15319</td>\n",
       "      <td>Asus</td>\n",
       "      <td>Notebook</td>\n",
       "      <td>15.6</td>\n",
       "      <td>1366x768</td>\n",
       "      <td>Intel Celeron Dual Core N3050 1.6GHz</td>\n",
       "      <td>4GB</td>\n",
       "      <td>500GB HDD</td>\n",
       "      <td>Intel HD Graphics</td>\n",
       "      <td>Windows 10</td>\n",
       "      <td>2.2kg</td>\n",
       "      <td>989.78600</td>\n",
       "    </tr>\n",
       "  </tbody>\n",
       "</table>\n",
       "<p>15320 rows × 12 columns</p>\n",
       "</div>"
      ],
      "text/plain": [
       "       Product ID   Brand                Type  Screen Size  \\\n",
       "0               0   Apple           Ultrabook         13.3   \n",
       "1               1   Apple           Ultrabook         13.3   \n",
       "2               2      HP            Notebook         15.6   \n",
       "3               3   Apple           Ultrabook         15.4   \n",
       "4               4   Apple           Ultrabook         13.3   \n",
       "...           ...     ...                 ...          ...   \n",
       "15315       15315  Lenovo  2 in 1 Convertible         14.0   \n",
       "15316       15316  Lenovo  2 in 1 Convertible         13.3   \n",
       "15317       15317  Lenovo            Notebook         14.0   \n",
       "15318       15318      HP            Notebook         15.6   \n",
       "15319       15319    Asus            Notebook         15.6   \n",
       "\n",
       "                                     Screen Specs  \\\n",
       "0              IPS Panel Retina Display 2560x1600   \n",
       "1                                        1440x900   \n",
       "2                               Full HD 1920x1080   \n",
       "3              IPS Panel Retina Display 2880x1800   \n",
       "4              IPS Panel Retina Display 2560x1600   \n",
       "...                                           ...   \n",
       "15315   IPS Panel Full HD / Touchscreen 1920x1080   \n",
       "15316  IPS Panel Quad HD+ / Touchscreen 3200x1800   \n",
       "15317                                    1366x768   \n",
       "15318                                    1366x768   \n",
       "15319                                    1366x768   \n",
       "\n",
       "                                        CPU   RAM            Hard Disk  \\\n",
       "0                      Intel Core i5 2.3GHz   8GB            128GB SSD   \n",
       "1                      Intel Core i5 1.8GHz   8GB  128GB Flash Storage   \n",
       "2                Intel Core i5 7200U 2.5GHz   8GB            256GB SSD   \n",
       "3                      Intel Core i7 2.7GHz  16GB            512GB SSD   \n",
       "4                      Intel Core i5 3.1GHz   8GB            256GB SSD   \n",
       "...                                     ...   ...                  ...   \n",
       "15315            Intel Core i7 6500U 2.5GHz   4GB            128GB SSD   \n",
       "15316            Intel Core i7 6500U 2.5GHz  16GB            512GB SSD   \n",
       "15317  Intel Celeron Dual Core N3050 1.6GHz   2GB   64GB Flash Storage   \n",
       "15318            Intel Core i7 6500U 2.5GHz   6GB              1TB HDD   \n",
       "15319  Intel Celeron Dual Core N3050 1.6GHz   4GB            500GB HDD   \n",
       "\n",
       "                                GPU Operating System  Weight   Price ($)  \n",
       "0      Intel Iris Plus Graphics 640            macOS  1.37kg  3568.93416  \n",
       "1            Intel HD Graphics 6000            macOS  1.34kg  2394.77616  \n",
       "2             Intel HD Graphics 620            No OS  1.86kg  1531.80000  \n",
       "3                AMD Radeon Pro 455            macOS  1.83kg  6759.76680  \n",
       "4      Intel Iris Plus Graphics 650            macOS  1.37kg  4804.79040  \n",
       "...                             ...              ...     ...         ...  \n",
       "15315         Intel HD Graphics 520       Windows 10   1.8kg  1706.40200  \n",
       "15316         Intel HD Graphics 520       Windows 10   1.3kg  4000.10600  \n",
       "15317             Intel HD Graphics       Windows 10   1.5kg   616.82600  \n",
       "15318            AMD Radeon R5 M330       Windows 10  2.19kg  2042.06600  \n",
       "15319             Intel HD Graphics       Windows 10   2.2kg   989.78600  \n",
       "\n",
       "[15320 rows x 12 columns]"
      ]
     },
     "execution_count": 3,
     "metadata": {},
     "output_type": "execute_result"
    }
   ],
   "source": [
    "pcDf=pd.read_csv('./pc_data (regression).csv')\n",
    "pcDf"
   ]
  },
  {
   "cell_type": "markdown",
   "metadata": {
    "pycharm": {
     "name": "#%% md\n"
    }
   },
   "source": [
    "At first glance,we observed:\n",
    "- The product ID may not be useful in prediction since the product ID for every product is different\n",
    "- There is missing data in some rows\n",
    "- The naming of some data that supposed to be referring to the same thing are named differently.Example: For the macOS in the operating system feature ,some rows are named Mac OS X while other rows named macOS.\n",
    "-Some features are containing too much information that should be split\n",
    "- The data type for some features can be changed"
   ]
  },
  {
   "cell_type": "markdown",
   "metadata": {
    "pycharm": {
     "name": "#%% md\n"
    }
   },
   "source": [
    "## Data Exploration Analysis (EDA)\n",
    "Before creating the machine learning model, we will carry out the Exploratory Data Analysis (EDA). The exploratory data analysis was proposed by Tukey (1977).It is an approach of analyzing data to gain further discoveries from data and provide a basis for further data preparation and experiment.\n",
    "\n",
    "### Dataset Information\n",
    " This dataset was in xxx.This dataset consists of 1 target label(price) and 11 independent features.15,320 rows of data are found in this dataset.Therefore,we conclude that the size of the dataset is neither too small nor too big.\n",
    "\n",
    "### Data Dictionary\n",
    "\n",
    "\n",
    "\n",
    "\n",
    "\n",
    "\n",
    "\n",
    "### Data Structure"
   ]
  },
  {
   "cell_type": "code",
   "execution_count": 4,
   "metadata": {
    "pycharm": {
     "name": "#%%\n"
    }
   },
   "outputs": [
    {
     "name": "stdout",
     "output_type": "stream",
     "text": [
      "<class 'pandas.core.frame.DataFrame'>\n",
      "RangeIndex: 15320 entries, 0 to 15319\n",
      "Data columns (total 12 columns):\n",
      " #   Column            Non-Null Count  Dtype  \n",
      "---  ------            --------------  -----  \n",
      " 0   Product ID        15320 non-null  int64  \n",
      " 1   Brand             15320 non-null  object \n",
      " 2   Type              15320 non-null  object \n",
      " 3   Screen Size       15320 non-null  float64\n",
      " 4   Screen Specs      15320 non-null  object \n",
      " 5   CPU               15320 non-null  object \n",
      " 6   RAM               15320 non-null  object \n",
      " 7   Hard Disk         15320 non-null  object \n",
      " 8   GPU               15320 non-null  object \n",
      " 9   Operating System  15320 non-null  object \n",
      " 10  Weight            15320 non-null  object \n",
      " 11  Price ($)         15320 non-null  float64\n",
      "dtypes: float64(2), int64(1), object(9)\n",
      "memory usage: 1.4+ MB\n"
     ]
    }
   ],
   "source": [
    "pcDf.info()"
   ]
  },
  {
   "cell_type": "markdown",
   "metadata": {
    "pycharm": {
     "name": "#%% md\n"
    }
   },
   "source": [
    "By viewing the basic information of the dataset,we realised 2 problem\n",
    " - Some feature's data type is incorrect. (E.g. Features such as weight should be more appropriate in float64 form)\n",
    " - There is missing data but not identified by default Pandas.  (E.g. The data type of many features is object which is abnormal but total non-null count is still 15320.)"
   ]
  },
  {
   "cell_type": "markdown",
   "metadata": {
    "pycharm": {
     "name": "#%% md\n"
    }
   },
   "source": [
    "### Feature Engineering\n"
   ]
  },
  {
   "cell_type": "markdown",
   "metadata": {
    "pycharm": {
     "name": "#%% md\n"
    }
   },
   "source": [
    "#### Data Categorization"
   ]
  },
  {
   "cell_type": "code",
   "execution_count": 5,
   "metadata": {
    "pycharm": {
     "name": "#%%\n"
    }
   },
   "outputs": [],
   "source": [
    "objectEngineer=['Brand','Type','Screen Specs','CPU','RAM','Hard Disk','GPU','Operating System','Weight']"
   ]
  },
  {
   "cell_type": "code",
   "execution_count": 6,
   "metadata": {
    "pycharm": {
     "name": "#%%\n"
    }
   },
   "outputs": [
    {
     "name": "stdout",
     "output_type": "stream",
     "text": [
      "        Brand\n",
      "0       Apple\n",
      "1          HP\n",
      "2        Acer\n",
      "3        Asus\n",
      "4        Dell\n",
      "5      Lenovo\n",
      "6       Chuwi\n",
      "7         MSI\n",
      "8   Microsoft\n",
      "9     Toshiba\n",
      "10     Huawei\n",
      "11     Xiaomi\n",
      "12       Vero\n",
      "13      Razer\n",
      "14   Mediacom\n",
      "15    Samsung\n",
      "16     Google\n",
      "17    Fujitsu\n",
      "18         LG\n",
      "                 Type\n",
      "0           Ultrabook\n",
      "1            Notebook\n",
      "2             Netbook\n",
      "3              Gaming\n",
      "4  2 in 1 Convertible\n",
      "5         Workstation\n",
      "                                     Screen Specs\n",
      "0              IPS Panel Retina Display 2560x1600\n",
      "1                                        1440x900\n",
      "2                               Full HD 1920x1080\n",
      "3              IPS Panel Retina Display 2880x1800\n",
      "4                                        1366x768\n",
      "5                     IPS Panel Full HD 1920x1080\n",
      "6              IPS Panel Retina Display 2304x1440\n",
      "7       IPS Panel Full HD / Touchscreen 1920x1080\n",
      "8                 Full HD / Touchscreen 1920x1080\n",
      "9                Touchscreen / Quad HD+ 3200x1800\n",
      "10                IPS Panel Touchscreen 1920x1200\n",
      "11                          Touchscreen 2256x1504\n",
      "12               Quad HD+ / Touchscreen 3200x1800\n",
      "13                             IPS Panel 1366x768\n",
      "14  IPS Panel 4K Ultra HD / Touchscreen 3840x2160\n",
      "15                    IPS Panel Full HD 2160x1440\n",
      "16            4K Ultra HD / Touchscreen 3840x2160\n",
      "17                          Touchscreen 2560x1440\n",
      "18                                       1600x900\n",
      "19                IPS Panel 4K Ultra HD 3840x2160\n",
      "20                          4K Ultra HD 3840x2160\n",
      "21                           Touchscreen 1366x768\n",
      "22                     IPS Panel Full HD 1366x768\n",
      "23                            IPS Panel 2560x1440\n",
      "24                    IPS Panel Full HD 2560x1440\n",
      "25             IPS Panel Retina Display 2736x1824\n",
      "26                          Touchscreen 2400x1600\n",
      "27                                      2560x1440\n",
      "28                   IPS Panel Quad HD+ 2560x1440\n",
      "29                   IPS Panel Quad HD+ 3200x1800\n",
      "30     IPS Panel Quad HD+ / Touchscreen 3200x1800\n",
      "31                 IPS Panel Touchscreen 1366x768\n",
      "32                                      1920x1080\n",
      "33                    IPS Panel Full HD 1920x1200\n",
      "34  IPS Panel Touchscreen / 4K Ultra HD 3840x2160\n",
      "35                IPS Panel Touchscreen 2560x1440\n",
      "36                Touchscreen / Full HD 1920x1080\n",
      "37                             Quad HD+ 3200x1800\n",
      "38            Touchscreen / 4K Ultra HD 3840x2160\n",
      "39                IPS Panel Touchscreen 2400x1600\n",
      "                                    CPU\n",
      "0                  Intel Core i5 2.3GHz\n",
      "1                  Intel Core i5 1.8GHz\n",
      "2            Intel Core i5 7200U 2.5GHz\n",
      "3                  Intel Core i7 2.7GHz\n",
      "4                  Intel Core i5 3.1GHz\n",
      "..                                  ...\n",
      "113  Intel Celeron Dual Core N3350 2GHz\n",
      "114       Samsung Cortex A72&A53 2.0GHz\n",
      "115            AMD E-Series 9000 2.2GHz\n",
      "116            Intel Core M 6Y30 0.9GHz\n",
      "117           AMD A9-Series 9410 2.9GHz\n",
      "\n",
      "[118 rows x 1 columns]\n",
      "    RAM\n",
      "0   8GB\n",
      "1  16GB\n",
      "2   4GB\n",
      "3   2GB\n",
      "4  12GB\n",
      "5   6GB\n",
      "6  32GB\n",
      "7  24GB\n",
      "8  64GB\n",
      "                        Hard Disk\n",
      "0                       128GB SSD\n",
      "1             128GB Flash Storage\n",
      "2                       256GB SSD\n",
      "3                       512GB SSD\n",
      "4                       500GB HDD\n",
      "5             256GB Flash Storage\n",
      "6                         1TB HDD\n",
      "7              32GB Flash Storage\n",
      "8            128GB SSD +  1TB HDD\n",
      "9          256GB SSD +  256GB SSD\n",
      "10             64GB Flash Storage\n",
      "11           256GB SSD +  1TB HDD\n",
      "12           256GB SSD +  2TB HDD\n",
      "13                       32GB SSD\n",
      "14                        2TB HDD\n",
      "15                       64GB SSD\n",
      "16                   1.0TB Hybrid\n",
      "17           512GB SSD +  1TB HDD\n",
      "18                        1TB SSD\n",
      "19         256GB SSD +  500GB HDD\n",
      "20           128GB SSD +  2TB HDD\n",
      "21         512GB SSD +  512GB SSD\n",
      "22                       16GB SSD\n",
      "23             16GB Flash Storage\n",
      "24         512GB SSD +  256GB SSD\n",
      "25           512GB SSD +  2TB HDD\n",
      "26  64GB Flash Storage +  1TB HDD\n",
      "27                      180GB SSD\n",
      "28             1TB HDD +  1TB HDD\n",
      "29                       32GB HDD\n",
      "30             1TB SSD +  1TB HDD\n",
      "31            512GB Flash Storage\n",
      "32                      128GB HDD\n",
      "33                      240GB SSD\n",
      "34                        8GB SSD\n",
      "35                   508GB Hybrid\n",
      "36                      1.0TB HDD\n",
      "37      512GB SSD +  1.0TB Hybrid\n",
      "38      256GB SSD +  1.0TB Hybrid\n",
      "                              GPU\n",
      "0    Intel Iris Plus Graphics 640\n",
      "1          Intel HD Graphics 6000\n",
      "2           Intel HD Graphics 620\n",
      "3              AMD Radeon Pro 455\n",
      "4    Intel Iris Plus Graphics 650\n",
      "..                            ...\n",
      "105           Nvidia Quadro M500M\n",
      "106            AMD Radeon R7 M360\n",
      "107          Nvidia Quadro M3000M\n",
      "108           Nvidia GeForce 960M\n",
      "109             ARM Mali T860 MP4\n",
      "\n",
      "[110 rows x 1 columns]\n",
      "  Operating System\n",
      "0            macOS\n",
      "1            No OS\n",
      "2       Windows 10\n",
      "3         Mac OS X\n",
      "4            Linux\n",
      "5          Android\n",
      "6     Windows 10 S\n",
      "7        Chrome OS\n",
      "8        Windows 7\n",
      "      Weight\n",
      "0     1.37kg\n",
      "1     1.34kg\n",
      "2     1.86kg\n",
      "3     1.83kg\n",
      "4      2.1kg\n",
      "..       ...\n",
      "174   2.21kg\n",
      "175    3.3kg\n",
      "176  2.191kg\n",
      "177   2.34kg\n",
      "178    4.0kg\n",
      "\n",
      "[179 rows x 1 columns]\n"
     ]
    }
   ],
   "source": [
    "# from IPython.core.display_functions import display\n",
    "\n",
    "for i in objectEngineer:\n",
    "    print(pd.DataFrame(pd.unique(pcDf[i]),columns=[i]))"
   ]
  },
  {
   "cell_type": "code",
   "execution_count": 7,
   "metadata": {
    "pycharm": {
     "name": "#%%\n"
    }
   },
   "outputs": [],
   "source": [
    "pcDf.Weight=pcDf.Weight.replace({'kg':''},regex=True)\n",
    "pcDf.RAM=pcDf.RAM.replace({'GB':''},regex=True)\n"
   ]
  },
  {
   "cell_type": "code",
   "execution_count": 8,
   "metadata": {
    "pycharm": {
     "name": "#%%\n"
    }
   },
   "outputs": [
    {
     "data": {
      "text/html": [
       "<div>\n",
       "<style scoped>\n",
       "    .dataframe tbody tr th:only-of-type {\n",
       "        vertical-align: middle;\n",
       "    }\n",
       "\n",
       "    .dataframe tbody tr th {\n",
       "        vertical-align: top;\n",
       "    }\n",
       "\n",
       "    .dataframe thead th {\n",
       "        text-align: right;\n",
       "    }\n",
       "</style>\n",
       "<table border=\"1\" class=\"dataframe\">\n",
       "  <thead>\n",
       "    <tr style=\"text-align: right;\">\n",
       "      <th></th>\n",
       "      <th>Product ID</th>\n",
       "      <th>Brand</th>\n",
       "      <th>Type</th>\n",
       "      <th>Screen Size</th>\n",
       "      <th>Screen Specs</th>\n",
       "      <th>CPU</th>\n",
       "      <th>RAM</th>\n",
       "      <th>Hard Disk</th>\n",
       "      <th>GPU</th>\n",
       "      <th>Operating System</th>\n",
       "      <th>Weight</th>\n",
       "      <th>Price ($)</th>\n",
       "    </tr>\n",
       "  </thead>\n",
       "  <tbody>\n",
       "    <tr>\n",
       "      <th>0</th>\n",
       "      <td>0</td>\n",
       "      <td>Apple</td>\n",
       "      <td>Ultrabook</td>\n",
       "      <td>13.3</td>\n",
       "      <td>IPS Panel Retina Display 2560x1600</td>\n",
       "      <td>Intel Core i5 2.3GHz</td>\n",
       "      <td>8</td>\n",
       "      <td>128GB SSD</td>\n",
       "      <td>Intel Iris Plus Graphics 640</td>\n",
       "      <td>macOS</td>\n",
       "      <td>1.37</td>\n",
       "      <td>3568.93416</td>\n",
       "    </tr>\n",
       "    <tr>\n",
       "      <th>1</th>\n",
       "      <td>1</td>\n",
       "      <td>Apple</td>\n",
       "      <td>Ultrabook</td>\n",
       "      <td>13.3</td>\n",
       "      <td>1440x900</td>\n",
       "      <td>Intel Core i5 1.8GHz</td>\n",
       "      <td>8</td>\n",
       "      <td>128GB Flash Storage</td>\n",
       "      <td>Intel HD Graphics 6000</td>\n",
       "      <td>macOS</td>\n",
       "      <td>1.34</td>\n",
       "      <td>2394.77616</td>\n",
       "    </tr>\n",
       "    <tr>\n",
       "      <th>2</th>\n",
       "      <td>2</td>\n",
       "      <td>HP</td>\n",
       "      <td>Notebook</td>\n",
       "      <td>15.6</td>\n",
       "      <td>Full HD 1920x1080</td>\n",
       "      <td>Intel Core i5 7200U 2.5GHz</td>\n",
       "      <td>8</td>\n",
       "      <td>256GB SSD</td>\n",
       "      <td>Intel HD Graphics 620</td>\n",
       "      <td>No OS</td>\n",
       "      <td>1.86</td>\n",
       "      <td>1531.80000</td>\n",
       "    </tr>\n",
       "    <tr>\n",
       "      <th>3</th>\n",
       "      <td>3</td>\n",
       "      <td>Apple</td>\n",
       "      <td>Ultrabook</td>\n",
       "      <td>15.4</td>\n",
       "      <td>IPS Panel Retina Display 2880x1800</td>\n",
       "      <td>Intel Core i7 2.7GHz</td>\n",
       "      <td>16</td>\n",
       "      <td>512GB SSD</td>\n",
       "      <td>AMD Radeon Pro 455</td>\n",
       "      <td>macOS</td>\n",
       "      <td>1.83</td>\n",
       "      <td>6759.76680</td>\n",
       "    </tr>\n",
       "    <tr>\n",
       "      <th>4</th>\n",
       "      <td>4</td>\n",
       "      <td>Apple</td>\n",
       "      <td>Ultrabook</td>\n",
       "      <td>13.3</td>\n",
       "      <td>IPS Panel Retina Display 2560x1600</td>\n",
       "      <td>Intel Core i5 3.1GHz</td>\n",
       "      <td>8</td>\n",
       "      <td>256GB SSD</td>\n",
       "      <td>Intel Iris Plus Graphics 650</td>\n",
       "      <td>macOS</td>\n",
       "      <td>1.37</td>\n",
       "      <td>4804.79040</td>\n",
       "    </tr>\n",
       "    <tr>\n",
       "      <th>...</th>\n",
       "      <td>...</td>\n",
       "      <td>...</td>\n",
       "      <td>...</td>\n",
       "      <td>...</td>\n",
       "      <td>...</td>\n",
       "      <td>...</td>\n",
       "      <td>...</td>\n",
       "      <td>...</td>\n",
       "      <td>...</td>\n",
       "      <td>...</td>\n",
       "      <td>...</td>\n",
       "      <td>...</td>\n",
       "    </tr>\n",
       "    <tr>\n",
       "      <th>15315</th>\n",
       "      <td>15315</td>\n",
       "      <td>Lenovo</td>\n",
       "      <td>2 in 1 Convertible</td>\n",
       "      <td>14.0</td>\n",
       "      <td>IPS Panel Full HD / Touchscreen 1920x1080</td>\n",
       "      <td>Intel Core i7 6500U 2.5GHz</td>\n",
       "      <td>4</td>\n",
       "      <td>128GB SSD</td>\n",
       "      <td>Intel HD Graphics 520</td>\n",
       "      <td>Windows 10</td>\n",
       "      <td>1.8</td>\n",
       "      <td>1706.40200</td>\n",
       "    </tr>\n",
       "    <tr>\n",
       "      <th>15316</th>\n",
       "      <td>15316</td>\n",
       "      <td>Lenovo</td>\n",
       "      <td>2 in 1 Convertible</td>\n",
       "      <td>13.3</td>\n",
       "      <td>IPS Panel Quad HD+ / Touchscreen 3200x1800</td>\n",
       "      <td>Intel Core i7 6500U 2.5GHz</td>\n",
       "      <td>16</td>\n",
       "      <td>512GB SSD</td>\n",
       "      <td>Intel HD Graphics 520</td>\n",
       "      <td>Windows 10</td>\n",
       "      <td>1.3</td>\n",
       "      <td>4000.10600</td>\n",
       "    </tr>\n",
       "    <tr>\n",
       "      <th>15317</th>\n",
       "      <td>15317</td>\n",
       "      <td>Lenovo</td>\n",
       "      <td>Notebook</td>\n",
       "      <td>14.0</td>\n",
       "      <td>1366x768</td>\n",
       "      <td>Intel Celeron Dual Core N3050 1.6GHz</td>\n",
       "      <td>2</td>\n",
       "      <td>64GB Flash Storage</td>\n",
       "      <td>Intel HD Graphics</td>\n",
       "      <td>Windows 10</td>\n",
       "      <td>1.5</td>\n",
       "      <td>616.82600</td>\n",
       "    </tr>\n",
       "    <tr>\n",
       "      <th>15318</th>\n",
       "      <td>15318</td>\n",
       "      <td>HP</td>\n",
       "      <td>Notebook</td>\n",
       "      <td>15.6</td>\n",
       "      <td>1366x768</td>\n",
       "      <td>Intel Core i7 6500U 2.5GHz</td>\n",
       "      <td>6</td>\n",
       "      <td>1TB HDD</td>\n",
       "      <td>AMD Radeon R5 M330</td>\n",
       "      <td>Windows 10</td>\n",
       "      <td>2.19</td>\n",
       "      <td>2042.06600</td>\n",
       "    </tr>\n",
       "    <tr>\n",
       "      <th>15319</th>\n",
       "      <td>15319</td>\n",
       "      <td>Asus</td>\n",
       "      <td>Notebook</td>\n",
       "      <td>15.6</td>\n",
       "      <td>1366x768</td>\n",
       "      <td>Intel Celeron Dual Core N3050 1.6GHz</td>\n",
       "      <td>4</td>\n",
       "      <td>500GB HDD</td>\n",
       "      <td>Intel HD Graphics</td>\n",
       "      <td>Windows 10</td>\n",
       "      <td>2.2</td>\n",
       "      <td>989.78600</td>\n",
       "    </tr>\n",
       "  </tbody>\n",
       "</table>\n",
       "<p>15320 rows × 12 columns</p>\n",
       "</div>"
      ],
      "text/plain": [
       "       Product ID   Brand                Type  Screen Size  \\\n",
       "0               0   Apple           Ultrabook         13.3   \n",
       "1               1   Apple           Ultrabook         13.3   \n",
       "2               2      HP            Notebook         15.6   \n",
       "3               3   Apple           Ultrabook         15.4   \n",
       "4               4   Apple           Ultrabook         13.3   \n",
       "...           ...     ...                 ...          ...   \n",
       "15315       15315  Lenovo  2 in 1 Convertible         14.0   \n",
       "15316       15316  Lenovo  2 in 1 Convertible         13.3   \n",
       "15317       15317  Lenovo            Notebook         14.0   \n",
       "15318       15318      HP            Notebook         15.6   \n",
       "15319       15319    Asus            Notebook         15.6   \n",
       "\n",
       "                                     Screen Specs  \\\n",
       "0              IPS Panel Retina Display 2560x1600   \n",
       "1                                        1440x900   \n",
       "2                               Full HD 1920x1080   \n",
       "3              IPS Panel Retina Display 2880x1800   \n",
       "4              IPS Panel Retina Display 2560x1600   \n",
       "...                                           ...   \n",
       "15315   IPS Panel Full HD / Touchscreen 1920x1080   \n",
       "15316  IPS Panel Quad HD+ / Touchscreen 3200x1800   \n",
       "15317                                    1366x768   \n",
       "15318                                    1366x768   \n",
       "15319                                    1366x768   \n",
       "\n",
       "                                        CPU RAM            Hard Disk  \\\n",
       "0                      Intel Core i5 2.3GHz   8            128GB SSD   \n",
       "1                      Intel Core i5 1.8GHz   8  128GB Flash Storage   \n",
       "2                Intel Core i5 7200U 2.5GHz   8            256GB SSD   \n",
       "3                      Intel Core i7 2.7GHz  16            512GB SSD   \n",
       "4                      Intel Core i5 3.1GHz   8            256GB SSD   \n",
       "...                                     ...  ..                  ...   \n",
       "15315            Intel Core i7 6500U 2.5GHz   4            128GB SSD   \n",
       "15316            Intel Core i7 6500U 2.5GHz  16            512GB SSD   \n",
       "15317  Intel Celeron Dual Core N3050 1.6GHz   2   64GB Flash Storage   \n",
       "15318            Intel Core i7 6500U 2.5GHz   6              1TB HDD   \n",
       "15319  Intel Celeron Dual Core N3050 1.6GHz   4            500GB HDD   \n",
       "\n",
       "                                GPU Operating System Weight   Price ($)  \n",
       "0      Intel Iris Plus Graphics 640            macOS   1.37  3568.93416  \n",
       "1            Intel HD Graphics 6000            macOS   1.34  2394.77616  \n",
       "2             Intel HD Graphics 620            No OS   1.86  1531.80000  \n",
       "3                AMD Radeon Pro 455            macOS   1.83  6759.76680  \n",
       "4      Intel Iris Plus Graphics 650            macOS   1.37  4804.79040  \n",
       "...                             ...              ...    ...         ...  \n",
       "15315         Intel HD Graphics 520       Windows 10    1.8  1706.40200  \n",
       "15316         Intel HD Graphics 520       Windows 10    1.3  4000.10600  \n",
       "15317             Intel HD Graphics       Windows 10    1.5   616.82600  \n",
       "15318            AMD Radeon R5 M330       Windows 10   2.19  2042.06600  \n",
       "15319             Intel HD Graphics       Windows 10    2.2   989.78600  \n",
       "\n",
       "[15320 rows x 12 columns]"
      ]
     },
     "execution_count": 8,
     "metadata": {},
     "output_type": "execute_result"
    }
   ],
   "source": [
    "pcDf['Operating System']=pcDf['Operating System'].replace({'Windows 10 S':'Windows 10','Mac OS X':'macOS'},regex=True)\n",
    "pcDf"
   ]
  },
  {
   "cell_type": "code",
   "execution_count": 9,
   "metadata": {
    "pycharm": {
     "name": "#%%\n"
    }
   },
   "outputs": [],
   "source": [
    "pcDf['Hard Disk']=pcDf['Hard Disk'].replace({'TB':'000',\"GB\":'',},regex=True)\n",
    "index=pcDf['Hard Disk'].index\n",
    "testDf=pcDf.copy()\n",
    "typeDisk=['SSD','Flash Storage','HDD','Hybrid']\n",
    "diskDf=pd.DataFrame(0, columns=typeDisk, index=index)\n",
    "for i,k in enumerate(testDf['Hard Disk']):\n",
    "   flag1=0\n",
    "   td=k\n",
    "\n",
    "   for s in typeDisk:\n",
    "       if s in k:\n",
    "          test=td.split(' '+s,1)\n",
    "          if any(\"+\" in n for n in test):\n",
    "              if not flag1:\n",
    "                td=td.split('+ ',1)[1]\n",
    "              flag1=1\n",
    "          diskDf[s][i]+=int(float(test[0]))\n",
    "pcDf=pd.concat([pcDf,diskDf],axis=1)\n"
   ]
  },
  {
   "cell_type": "code",
   "execution_count": 10,
   "metadata": {
    "pycharm": {
     "name": "#%%\n"
    }
   },
   "outputs": [],
   "source": [
    "screenType=pcDf['Screen Specs'].apply(lambda x: pd.Series(['NA',x.rsplit(' ',1)[0]] if ('x' in x.rsplit(' ',1)[0]) else x.rsplit(' ',1)))\n",
    "touch=pd.DataFrame([0 if (touch ==None) else 1 for touch in screenType[0].str.split(pat='Touchscreen',expand=True)[1]],columns=['Touchscreen'])\n",
    "\n",
    "resolution=pd.DataFrame(screenType[1]).rename(columns={1:\"Resolution\"})\n",
    "\n",
    "pcDf=pd.concat([pcDf,resolution,touch],axis=1)"
   ]
  },
  {
   "cell_type": "markdown",
   "metadata": {
    "pycharm": {
     "name": "#%% md\n"
    }
   },
   "source": [
    "#### Drop Redundant Features"
   ]
  },
  {
   "cell_type": "code",
   "execution_count": 11,
   "metadata": {
    "pycharm": {
     "name": "#%%\n"
    }
   },
   "outputs": [],
   "source": [
    "pcDf=pcDf.drop(['Screen Specs','Hard Disk'],1)"
   ]
  },
  {
   "cell_type": "code",
   "execution_count": 12,
   "metadata": {
    "pycharm": {
     "name": "#%%\n"
    }
   },
   "outputs": [],
   "source": [
    "pcDf=pcDf.astype({'Product ID':np.int64,'Brand':'U16','Type':'U32','Screen Size':'f8','CPU':'U32','RAM':np.int64,'GPU':'U32','Operating System':'U32','Weight':'f8','Resolution':'U32','Touchscreen':np.int64})"
   ]
  },
  {
   "cell_type": "code",
   "execution_count": 13,
   "metadata": {
    "pycharm": {
     "name": "#%%\n"
    }
   },
   "outputs": [
    {
     "data": {
      "text/html": [
       "<div>\n",
       "<style scoped>\n",
       "    .dataframe tbody tr th:only-of-type {\n",
       "        vertical-align: middle;\n",
       "    }\n",
       "\n",
       "    .dataframe tbody tr th {\n",
       "        vertical-align: top;\n",
       "    }\n",
       "\n",
       "    .dataframe thead th {\n",
       "        text-align: right;\n",
       "    }\n",
       "</style>\n",
       "<table border=\"1\" class=\"dataframe\">\n",
       "  <thead>\n",
       "    <tr style=\"text-align: right;\">\n",
       "      <th></th>\n",
       "      <th>Product ID</th>\n",
       "      <th>Brand</th>\n",
       "      <th>Type</th>\n",
       "      <th>Screen Size</th>\n",
       "      <th>CPU</th>\n",
       "      <th>RAM</th>\n",
       "      <th>GPU</th>\n",
       "      <th>Operating System</th>\n",
       "      <th>Weight</th>\n",
       "      <th>Price ($)</th>\n",
       "      <th>SSD</th>\n",
       "      <th>Flash Storage</th>\n",
       "      <th>HDD</th>\n",
       "      <th>Hybrid</th>\n",
       "      <th>Resolution</th>\n",
       "      <th>Touchscreen</th>\n",
       "    </tr>\n",
       "  </thead>\n",
       "  <tbody>\n",
       "    <tr>\n",
       "      <th>0</th>\n",
       "      <td>0</td>\n",
       "      <td>Apple</td>\n",
       "      <td>Ultrabook</td>\n",
       "      <td>13.3</td>\n",
       "      <td>Intel Core i5 2.3GHz</td>\n",
       "      <td>8</td>\n",
       "      <td>Intel Iris Plus Graphics 640</td>\n",
       "      <td>macOS</td>\n",
       "      <td>1.37</td>\n",
       "      <td>3568.93416</td>\n",
       "      <td>128</td>\n",
       "      <td>0</td>\n",
       "      <td>0</td>\n",
       "      <td>0</td>\n",
       "      <td>2560x1600</td>\n",
       "      <td>0</td>\n",
       "    </tr>\n",
       "    <tr>\n",
       "      <th>1</th>\n",
       "      <td>1</td>\n",
       "      <td>Apple</td>\n",
       "      <td>Ultrabook</td>\n",
       "      <td>13.3</td>\n",
       "      <td>Intel Core i5 1.8GHz</td>\n",
       "      <td>8</td>\n",
       "      <td>Intel HD Graphics 6000</td>\n",
       "      <td>macOS</td>\n",
       "      <td>1.34</td>\n",
       "      <td>2394.77616</td>\n",
       "      <td>0</td>\n",
       "      <td>128</td>\n",
       "      <td>0</td>\n",
       "      <td>0</td>\n",
       "      <td>1440x900</td>\n",
       "      <td>0</td>\n",
       "    </tr>\n",
       "    <tr>\n",
       "      <th>2</th>\n",
       "      <td>2</td>\n",
       "      <td>HP</td>\n",
       "      <td>Notebook</td>\n",
       "      <td>15.6</td>\n",
       "      <td>Intel Core i5 7200U 2.5GHz</td>\n",
       "      <td>8</td>\n",
       "      <td>Intel HD Graphics 620</td>\n",
       "      <td>No OS</td>\n",
       "      <td>1.86</td>\n",
       "      <td>1531.80000</td>\n",
       "      <td>256</td>\n",
       "      <td>0</td>\n",
       "      <td>0</td>\n",
       "      <td>0</td>\n",
       "      <td>1920x1080</td>\n",
       "      <td>0</td>\n",
       "    </tr>\n",
       "    <tr>\n",
       "      <th>3</th>\n",
       "      <td>3</td>\n",
       "      <td>Apple</td>\n",
       "      <td>Ultrabook</td>\n",
       "      <td>15.4</td>\n",
       "      <td>Intel Core i7 2.7GHz</td>\n",
       "      <td>16</td>\n",
       "      <td>AMD Radeon Pro 455</td>\n",
       "      <td>macOS</td>\n",
       "      <td>1.83</td>\n",
       "      <td>6759.76680</td>\n",
       "      <td>512</td>\n",
       "      <td>0</td>\n",
       "      <td>0</td>\n",
       "      <td>0</td>\n",
       "      <td>2880x1800</td>\n",
       "      <td>0</td>\n",
       "    </tr>\n",
       "    <tr>\n",
       "      <th>4</th>\n",
       "      <td>4</td>\n",
       "      <td>Apple</td>\n",
       "      <td>Ultrabook</td>\n",
       "      <td>13.3</td>\n",
       "      <td>Intel Core i5 3.1GHz</td>\n",
       "      <td>8</td>\n",
       "      <td>Intel Iris Plus Graphics 650</td>\n",
       "      <td>macOS</td>\n",
       "      <td>1.37</td>\n",
       "      <td>4804.79040</td>\n",
       "      <td>256</td>\n",
       "      <td>0</td>\n",
       "      <td>0</td>\n",
       "      <td>0</td>\n",
       "      <td>2560x1600</td>\n",
       "      <td>0</td>\n",
       "    </tr>\n",
       "    <tr>\n",
       "      <th>...</th>\n",
       "      <td>...</td>\n",
       "      <td>...</td>\n",
       "      <td>...</td>\n",
       "      <td>...</td>\n",
       "      <td>...</td>\n",
       "      <td>...</td>\n",
       "      <td>...</td>\n",
       "      <td>...</td>\n",
       "      <td>...</td>\n",
       "      <td>...</td>\n",
       "      <td>...</td>\n",
       "      <td>...</td>\n",
       "      <td>...</td>\n",
       "      <td>...</td>\n",
       "      <td>...</td>\n",
       "      <td>...</td>\n",
       "    </tr>\n",
       "    <tr>\n",
       "      <th>15315</th>\n",
       "      <td>15315</td>\n",
       "      <td>Lenovo</td>\n",
       "      <td>2 in 1 Convertible</td>\n",
       "      <td>14.0</td>\n",
       "      <td>Intel Core i7 6500U 2.5GHz</td>\n",
       "      <td>4</td>\n",
       "      <td>Intel HD Graphics 520</td>\n",
       "      <td>Windows 10</td>\n",
       "      <td>1.80</td>\n",
       "      <td>1706.40200</td>\n",
       "      <td>128</td>\n",
       "      <td>0</td>\n",
       "      <td>0</td>\n",
       "      <td>0</td>\n",
       "      <td>1920x1080</td>\n",
       "      <td>1</td>\n",
       "    </tr>\n",
       "    <tr>\n",
       "      <th>15316</th>\n",
       "      <td>15316</td>\n",
       "      <td>Lenovo</td>\n",
       "      <td>2 in 1 Convertible</td>\n",
       "      <td>13.3</td>\n",
       "      <td>Intel Core i7 6500U 2.5GHz</td>\n",
       "      <td>16</td>\n",
       "      <td>Intel HD Graphics 520</td>\n",
       "      <td>Windows 10</td>\n",
       "      <td>1.30</td>\n",
       "      <td>4000.10600</td>\n",
       "      <td>512</td>\n",
       "      <td>0</td>\n",
       "      <td>0</td>\n",
       "      <td>0</td>\n",
       "      <td>3200x1800</td>\n",
       "      <td>1</td>\n",
       "    </tr>\n",
       "    <tr>\n",
       "      <th>15317</th>\n",
       "      <td>15317</td>\n",
       "      <td>Lenovo</td>\n",
       "      <td>Notebook</td>\n",
       "      <td>14.0</td>\n",
       "      <td>Intel Celeron Dual Core N3050 1.6GHz</td>\n",
       "      <td>2</td>\n",
       "      <td>Intel HD Graphics</td>\n",
       "      <td>Windows 10</td>\n",
       "      <td>1.50</td>\n",
       "      <td>616.82600</td>\n",
       "      <td>0</td>\n",
       "      <td>64</td>\n",
       "      <td>0</td>\n",
       "      <td>0</td>\n",
       "      <td>1366x768</td>\n",
       "      <td>0</td>\n",
       "    </tr>\n",
       "    <tr>\n",
       "      <th>15318</th>\n",
       "      <td>15318</td>\n",
       "      <td>HP</td>\n",
       "      <td>Notebook</td>\n",
       "      <td>15.6</td>\n",
       "      <td>Intel Core i7 6500U 2.5GHz</td>\n",
       "      <td>6</td>\n",
       "      <td>AMD Radeon R5 M330</td>\n",
       "      <td>Windows 10</td>\n",
       "      <td>2.19</td>\n",
       "      <td>2042.06600</td>\n",
       "      <td>0</td>\n",
       "      <td>0</td>\n",
       "      <td>1000</td>\n",
       "      <td>0</td>\n",
       "      <td>1366x768</td>\n",
       "      <td>0</td>\n",
       "    </tr>\n",
       "    <tr>\n",
       "      <th>15319</th>\n",
       "      <td>15319</td>\n",
       "      <td>Asus</td>\n",
       "      <td>Notebook</td>\n",
       "      <td>15.6</td>\n",
       "      <td>Intel Celeron Dual Core N3050 1.6GHz</td>\n",
       "      <td>4</td>\n",
       "      <td>Intel HD Graphics</td>\n",
       "      <td>Windows 10</td>\n",
       "      <td>2.20</td>\n",
       "      <td>989.78600</td>\n",
       "      <td>0</td>\n",
       "      <td>0</td>\n",
       "      <td>500</td>\n",
       "      <td>0</td>\n",
       "      <td>1366x768</td>\n",
       "      <td>0</td>\n",
       "    </tr>\n",
       "  </tbody>\n",
       "</table>\n",
       "<p>15320 rows × 16 columns</p>\n",
       "</div>"
      ],
      "text/plain": [
       "       Product ID   Brand                Type  Screen Size  \\\n",
       "0               0   Apple           Ultrabook         13.3   \n",
       "1               1   Apple           Ultrabook         13.3   \n",
       "2               2      HP            Notebook         15.6   \n",
       "3               3   Apple           Ultrabook         15.4   \n",
       "4               4   Apple           Ultrabook         13.3   \n",
       "...           ...     ...                 ...          ...   \n",
       "15315       15315  Lenovo  2 in 1 Convertible         14.0   \n",
       "15316       15316  Lenovo  2 in 1 Convertible         13.3   \n",
       "15317       15317  Lenovo            Notebook         14.0   \n",
       "15318       15318      HP            Notebook         15.6   \n",
       "15319       15319    Asus            Notebook         15.6   \n",
       "\n",
       "                                        CPU  RAM  \\\n",
       "0                      Intel Core i5 2.3GHz    8   \n",
       "1                      Intel Core i5 1.8GHz    8   \n",
       "2                Intel Core i5 7200U 2.5GHz    8   \n",
       "3                      Intel Core i7 2.7GHz   16   \n",
       "4                      Intel Core i5 3.1GHz    8   \n",
       "...                                     ...  ...   \n",
       "15315            Intel Core i7 6500U 2.5GHz    4   \n",
       "15316            Intel Core i7 6500U 2.5GHz   16   \n",
       "15317  Intel Celeron Dual Core N3050 1.6GHz    2   \n",
       "15318            Intel Core i7 6500U 2.5GHz    6   \n",
       "15319  Intel Celeron Dual Core N3050 1.6GHz    4   \n",
       "\n",
       "                                GPU Operating System  Weight   Price ($)  SSD  \\\n",
       "0      Intel Iris Plus Graphics 640            macOS    1.37  3568.93416  128   \n",
       "1            Intel HD Graphics 6000            macOS    1.34  2394.77616    0   \n",
       "2             Intel HD Graphics 620            No OS    1.86  1531.80000  256   \n",
       "3                AMD Radeon Pro 455            macOS    1.83  6759.76680  512   \n",
       "4      Intel Iris Plus Graphics 650            macOS    1.37  4804.79040  256   \n",
       "...                             ...              ...     ...         ...  ...   \n",
       "15315         Intel HD Graphics 520       Windows 10    1.80  1706.40200  128   \n",
       "15316         Intel HD Graphics 520       Windows 10    1.30  4000.10600  512   \n",
       "15317             Intel HD Graphics       Windows 10    1.50   616.82600    0   \n",
       "15318            AMD Radeon R5 M330       Windows 10    2.19  2042.06600    0   \n",
       "15319             Intel HD Graphics       Windows 10    2.20   989.78600    0   \n",
       "\n",
       "       Flash Storage   HDD  Hybrid Resolution  Touchscreen  \n",
       "0                  0     0       0  2560x1600            0  \n",
       "1                128     0       0   1440x900            0  \n",
       "2                  0     0       0  1920x1080            0  \n",
       "3                  0     0       0  2880x1800            0  \n",
       "4                  0     0       0  2560x1600            0  \n",
       "...              ...   ...     ...        ...          ...  \n",
       "15315              0     0       0  1920x1080            1  \n",
       "15316              0     0       0  3200x1800            1  \n",
       "15317             64     0       0   1366x768            0  \n",
       "15318              0  1000       0   1366x768            0  \n",
       "15319              0   500       0   1366x768            0  \n",
       "\n",
       "[15320 rows x 16 columns]"
      ]
     },
     "execution_count": 13,
     "metadata": {},
     "output_type": "execute_result"
    }
   ],
   "source": [
    "pcDf"
   ]
  },
  {
   "cell_type": "markdown",
   "metadata": {
    "pycharm": {
     "name": "#%% md\n"
    }
   },
   "source": [
    "#### Quantitative Features"
   ]
  },
  {
   "cell_type": "code",
   "execution_count": 14,
   "metadata": {
    "pycharm": {
     "name": "#%%\n"
    }
   },
   "outputs": [],
   "source": [
    "quantitativeVariable=['Screen Size','RAM','Weight','Hybrid']"
   ]
  },
  {
   "cell_type": "markdown",
   "metadata": {
    "pycharm": {
     "name": "#%% md\n"
    }
   },
   "source": [
    "#### Qualitative Features"
   ]
  },
  {
   "cell_type": "code",
   "execution_count": 15,
   "metadata": {
    "pycharm": {
     "name": "#%%\n"
    }
   },
   "outputs": [],
   "source": [
    "qualitativeVariable=['Brand','Type','CPU','GPU','Operating System','Resolution','SSD','HDD','Flash Storage']"
   ]
  },
  {
   "cell_type": "markdown",
   "metadata": {
    "pycharm": {
     "name": "#%% md\n"
    }
   },
   "source": [
    "### Univariate Analysis"
   ]
  },
  {
   "cell_type": "markdown",
   "metadata": {
    "pycharm": {
     "name": "#%% md\n"
    }
   },
   "source": [
    "#### Descriptive Statistics"
   ]
  },
  {
   "cell_type": "code",
   "execution_count": 16,
   "metadata": {
    "pycharm": {
     "name": "#%%\n"
    }
   },
   "outputs": [
    {
     "data": {
      "text/html": [
       "<div>\n",
       "<style scoped>\n",
       "    .dataframe tbody tr th:only-of-type {\n",
       "        vertical-align: middle;\n",
       "    }\n",
       "\n",
       "    .dataframe tbody tr th {\n",
       "        vertical-align: top;\n",
       "    }\n",
       "\n",
       "    .dataframe thead th {\n",
       "        text-align: right;\n",
       "    }\n",
       "</style>\n",
       "<table border=\"1\" class=\"dataframe\">\n",
       "  <thead>\n",
       "    <tr style=\"text-align: right;\">\n",
       "      <th></th>\n",
       "      <th>Screen Size</th>\n",
       "      <th>RAM</th>\n",
       "      <th>Weight</th>\n",
       "      <th>Hybrid</th>\n",
       "    </tr>\n",
       "  </thead>\n",
       "  <tbody>\n",
       "    <tr>\n",
       "      <th>count</th>\n",
       "      <td>15320.000000</td>\n",
       "      <td>15320.000000</td>\n",
       "      <td>15320.000000</td>\n",
       "      <td>15320.000000</td>\n",
       "    </tr>\n",
       "    <tr>\n",
       "      <th>mean</th>\n",
       "      <td>15.016475</td>\n",
       "      <td>8.398433</td>\n",
       "      <td>2.040976</td>\n",
       "      <td>0.406527</td>\n",
       "    </tr>\n",
       "    <tr>\n",
       "      <th>std</th>\n",
       "      <td>1.425779</td>\n",
       "      <td>5.104099</td>\n",
       "      <td>0.668048</td>\n",
       "      <td>14.212510</td>\n",
       "    </tr>\n",
       "    <tr>\n",
       "      <th>min</th>\n",
       "      <td>10.100000</td>\n",
       "      <td>2.000000</td>\n",
       "      <td>0.690000</td>\n",
       "      <td>0.000000</td>\n",
       "    </tr>\n",
       "    <tr>\n",
       "      <th>25%</th>\n",
       "      <td>14.000000</td>\n",
       "      <td>4.000000</td>\n",
       "      <td>1.500000</td>\n",
       "      <td>0.000000</td>\n",
       "    </tr>\n",
       "    <tr>\n",
       "      <th>50%</th>\n",
       "      <td>15.600000</td>\n",
       "      <td>8.000000</td>\n",
       "      <td>2.040000</td>\n",
       "      <td>0.000000</td>\n",
       "    </tr>\n",
       "    <tr>\n",
       "      <th>75%</th>\n",
       "      <td>15.600000</td>\n",
       "      <td>8.000000</td>\n",
       "      <td>2.310000</td>\n",
       "      <td>0.000000</td>\n",
       "    </tr>\n",
       "    <tr>\n",
       "      <th>max</th>\n",
       "      <td>18.400000</td>\n",
       "      <td>64.000000</td>\n",
       "      <td>4.700000</td>\n",
       "      <td>508.000000</td>\n",
       "    </tr>\n",
       "  </tbody>\n",
       "</table>\n",
       "</div>"
      ],
      "text/plain": [
       "        Screen Size           RAM        Weight        Hybrid\n",
       "count  15320.000000  15320.000000  15320.000000  15320.000000\n",
       "mean      15.016475      8.398433      2.040976      0.406527\n",
       "std        1.425779      5.104099      0.668048     14.212510\n",
       "min       10.100000      2.000000      0.690000      0.000000\n",
       "25%       14.000000      4.000000      1.500000      0.000000\n",
       "50%       15.600000      8.000000      2.040000      0.000000\n",
       "75%       15.600000      8.000000      2.310000      0.000000\n",
       "max       18.400000     64.000000      4.700000    508.000000"
      ]
     },
     "execution_count": 16,
     "metadata": {},
     "output_type": "execute_result"
    }
   ],
   "source": [
    "pcDf[quantitativeVariable].describe()"
   ]
  },
  {
   "cell_type": "code",
   "execution_count": 17,
   "metadata": {
    "pycharm": {
     "name": "#%%\n"
    }
   },
   "outputs": [
    {
     "data": {
      "text/html": [
       "<div>\n",
       "<style scoped>\n",
       "    .dataframe tbody tr th:only-of-type {\n",
       "        vertical-align: middle;\n",
       "    }\n",
       "\n",
       "    .dataframe tbody tr th {\n",
       "        vertical-align: top;\n",
       "    }\n",
       "\n",
       "    .dataframe thead th {\n",
       "        text-align: right;\n",
       "    }\n",
       "</style>\n",
       "<table border=\"1\" class=\"dataframe\">\n",
       "  <thead>\n",
       "    <tr style=\"text-align: right;\">\n",
       "      <th></th>\n",
       "      <th>SSD</th>\n",
       "      <th>HDD</th>\n",
       "      <th>Flash Storage</th>\n",
       "    </tr>\n",
       "  </thead>\n",
       "  <tbody>\n",
       "    <tr>\n",
       "      <th>count</th>\n",
       "      <td>15320.000000</td>\n",
       "      <td>15320.000000</td>\n",
       "      <td>15320.000000</td>\n",
       "    </tr>\n",
       "    <tr>\n",
       "      <th>mean</th>\n",
       "      <td>183.336815</td>\n",
       "      <td>412.919843</td>\n",
       "      <td>4.315405</td>\n",
       "    </tr>\n",
       "    <tr>\n",
       "      <th>std</th>\n",
       "      <td>185.293469</td>\n",
       "      <td>513.293869</td>\n",
       "      <td>29.558268</td>\n",
       "    </tr>\n",
       "    <tr>\n",
       "      <th>min</th>\n",
       "      <td>0.000000</td>\n",
       "      <td>0.000000</td>\n",
       "      <td>0.000000</td>\n",
       "    </tr>\n",
       "    <tr>\n",
       "      <th>25%</th>\n",
       "      <td>0.000000</td>\n",
       "      <td>0.000000</td>\n",
       "      <td>0.000000</td>\n",
       "    </tr>\n",
       "    <tr>\n",
       "      <th>50%</th>\n",
       "      <td>256.000000</td>\n",
       "      <td>0.000000</td>\n",
       "      <td>0.000000</td>\n",
       "    </tr>\n",
       "    <tr>\n",
       "      <th>75%</th>\n",
       "      <td>256.000000</td>\n",
       "      <td>1000.000000</td>\n",
       "      <td>0.000000</td>\n",
       "    </tr>\n",
       "    <tr>\n",
       "      <th>max</th>\n",
       "      <td>1000.000000</td>\n",
       "      <td>2000.000000</td>\n",
       "      <td>512.000000</td>\n",
       "    </tr>\n",
       "  </tbody>\n",
       "</table>\n",
       "</div>"
      ],
      "text/plain": [
       "                SSD           HDD  Flash Storage\n",
       "count  15320.000000  15320.000000   15320.000000\n",
       "mean     183.336815    412.919843       4.315405\n",
       "std      185.293469    513.293869      29.558268\n",
       "min        0.000000      0.000000       0.000000\n",
       "25%        0.000000      0.000000       0.000000\n",
       "50%      256.000000      0.000000       0.000000\n",
       "75%      256.000000   1000.000000       0.000000\n",
       "max     1000.000000   2000.000000     512.000000"
      ]
     },
     "execution_count": 17,
     "metadata": {},
     "output_type": "execute_result"
    }
   ],
   "source": [
    "pcDf[qualitativeVariable].describe()"
   ]
  },
  {
   "cell_type": "markdown",
   "metadata": {
    "pycharm": {
     "name": "#%% md\n"
    }
   },
   "source": [
    "### Target Label"
   ]
  },
  {
   "cell_type": "code",
   "execution_count": 18,
   "metadata": {
    "pycharm": {
     "name": "#%%\n"
    }
   },
   "outputs": [
    {
     "ename": "AttributeError",
     "evalue": "module 'seaborn' has no attribute 'displot'",
     "output_type": "error",
     "traceback": [
      "\u001b[1;31m---------------------------------------------------------------------------\u001b[0m",
      "\u001b[1;31mAttributeError\u001b[0m                            Traceback (most recent call last)",
      "\u001b[1;32m<ipython-input-18-fd4f3121d0e9>\u001b[0m in \u001b[0;36m<module>\u001b[1;34m\u001b[0m\n\u001b[1;32m----> 1\u001b[1;33m \u001b[0msns\u001b[0m\u001b[1;33m.\u001b[0m\u001b[0mdisplot\u001b[0m\u001b[1;33m(\u001b[0m\u001b[0mdata\u001b[0m\u001b[1;33m=\u001b[0m\u001b[0mpcDf\u001b[0m\u001b[1;33m,\u001b[0m \u001b[0mx\u001b[0m\u001b[1;33m=\u001b[0m\u001b[1;34m\"Price ($)\"\u001b[0m\u001b[1;33m,\u001b[0m \u001b[0mkde\u001b[0m\u001b[1;33m=\u001b[0m\u001b[1;32mTrue\u001b[0m\u001b[1;33m,\u001b[0m \u001b[0mheight\u001b[0m \u001b[1;33m=\u001b[0m \u001b[1;36m8\u001b[0m\u001b[1;33m)\u001b[0m\u001b[1;33m\u001b[0m\u001b[1;33m\u001b[0m\u001b[0m\n\u001b[0m\u001b[0;32m      2\u001b[0m \u001b[0mplt\u001b[0m\u001b[1;33m.\u001b[0m\u001b[0mtitle\u001b[0m\u001b[1;33m(\u001b[0m\u001b[1;34m\"Distribution of Price\"\u001b[0m\u001b[1;33m)\u001b[0m\u001b[1;33m\u001b[0m\u001b[1;33m\u001b[0m\u001b[0m\n\u001b[0;32m      3\u001b[0m \u001b[0mplt\u001b[0m\u001b[1;33m.\u001b[0m\u001b[0mshow\u001b[0m\u001b[1;33m(\u001b[0m\u001b[1;33m)\u001b[0m\u001b[1;33m\u001b[0m\u001b[1;33m\u001b[0m\u001b[0m\n",
      "\u001b[1;31mAttributeError\u001b[0m: module 'seaborn' has no attribute 'displot'"
     ]
    }
   ],
   "source": [
    "sns.displot(data=pcDf, x=\"Price ($)\", kde=True, height = 8)\n",
    "plt.title(\"Distribution of Price\")\n",
    "plt.show()"
   ]
  },
  {
   "cell_type": "code",
   "execution_count": 19,
   "metadata": {
    "pycharm": {
     "name": "#%%\n"
    }
   },
   "outputs": [
    {
     "name": "stdout",
     "output_type": "stream",
     "text": [
      "Median Price: $2614.426, Price IQR: $2376.6440000000002\n"
     ]
    }
   ],
   "source": [
    "price_median = pcDf[\"Price ($)\"].median()\n",
    "price_iqr = pcDf[\"Price ($)\"].quantile(.75) - pcDf[\"Price ($)\"].quantile(.25)\n",
    "print(f\"Median Price: ${price_median}, Price IQR: ${price_iqr}\")"
   ]
  },
  {
   "cell_type": "code",
   "execution_count": 20,
   "metadata": {
    "pycharm": {
     "name": "#%%\n"
    }
   },
   "outputs": [
    {
     "ename": "AttributeError",
     "evalue": "module 'seaborn' has no attribute 'displot'",
     "output_type": "error",
     "traceback": [
      "\u001b[1;31m---------------------------------------------------------------------------\u001b[0m",
      "\u001b[1;31mAttributeError\u001b[0m                            Traceback (most recent call last)",
      "\u001b[1;32m<ipython-input-20-99c0bba8e286>\u001b[0m in \u001b[0;36m<module>\u001b[1;34m\u001b[0m\n\u001b[1;32m----> 1\u001b[1;33m \u001b[0msns\u001b[0m\u001b[1;33m.\u001b[0m\u001b[0mdisplot\u001b[0m\u001b[1;33m(\u001b[0m\u001b[0mdata\u001b[0m\u001b[1;33m=\u001b[0m\u001b[0mpcDf\u001b[0m\u001b[1;33m,\u001b[0m \u001b[0mx\u001b[0m\u001b[1;33m=\u001b[0m\u001b[1;34m\"Price ($)\"\u001b[0m\u001b[1;33m,\u001b[0m \u001b[0mkde\u001b[0m\u001b[1;33m=\u001b[0m\u001b[1;32mTrue\u001b[0m\u001b[1;33m,\u001b[0m \u001b[0mheight\u001b[0m \u001b[1;33m=\u001b[0m \u001b[1;36m8\u001b[0m\u001b[1;33m,\u001b[0m\u001b[0mlog_scale\u001b[0m\u001b[1;33m=\u001b[0m\u001b[1;32mTrue\u001b[0m\u001b[1;33m)\u001b[0m\u001b[1;33m\u001b[0m\u001b[1;33m\u001b[0m\u001b[0m\n\u001b[0m\u001b[0;32m      2\u001b[0m \u001b[0mplt\u001b[0m\u001b[1;33m.\u001b[0m\u001b[0mtitle\u001b[0m\u001b[1;33m(\u001b[0m\u001b[1;34m\"Distribution of Price\"\u001b[0m\u001b[1;33m)\u001b[0m\u001b[1;33m\u001b[0m\u001b[1;33m\u001b[0m\u001b[0m\n\u001b[0;32m      3\u001b[0m \u001b[0mplt\u001b[0m\u001b[1;33m.\u001b[0m\u001b[0mshow\u001b[0m\u001b[1;33m(\u001b[0m\u001b[1;33m)\u001b[0m\u001b[1;33m\u001b[0m\u001b[1;33m\u001b[0m\u001b[0m\n",
      "\u001b[1;31mAttributeError\u001b[0m: module 'seaborn' has no attribute 'displot'"
     ]
    }
   ],
   "source": [
    "sns.displot(data=pcDf, x=\"Price ($)\", kde=True, height = 8,log_scale=True)\n",
    "plt.title(\"Distribution of Price\")\n",
    "plt.show()"
   ]
  },
  {
   "cell_type": "code",
   "execution_count": 21,
   "metadata": {
    "pycharm": {
     "name": "#%%\n"
    }
   },
   "outputs": [
    {
     "data": {
      "image/png": "[encoded data removed]",
      "text/plain": [
       "<Figure size 720x720 with 4 Axes>"
      ]
     },
     "metadata": {},
     "output_type": "display_data"
    }
   ],
   "source": [
    "pcDf[quantitativeVariable].hist(figsize=(10, 10))\n",
    "plt.tight_layout()\n",
    "plt.show()"
   ]
  },
  {
   "cell_type": "code",
   "execution_count": 22,
   "metadata": {
    "pycharm": {
     "name": "#%%\n"
    }
   },
   "outputs": [
    {
     "ename": "AttributeError",
     "evalue": "'AxesSubplot' object has no attribute 'bar_label'",
     "output_type": "error",
     "traceback": [
      "\u001b[1;31m---------------------------------------------------------------------------\u001b[0m",
      "\u001b[1;31mAttributeError\u001b[0m                            Traceback (most recent call last)",
      "\u001b[1;32m<ipython-input-22-4f62df4ca282>\u001b[0m in \u001b[0;36m<module>\u001b[1;34m\u001b[0m\n\u001b[0;32m      3\u001b[0m     \u001b[0mn\u001b[0m\u001b[1;33m=\u001b[0m\u001b[1;36m1\u001b[0m \u001b[1;32mif\u001b[0m \u001b[0mi\u001b[0m\u001b[1;33m%\u001b[0m\u001b[1;36m2\u001b[0m\u001b[1;33m==\u001b[0m\u001b[1;36m0\u001b[0m \u001b[1;32melse\u001b[0m \u001b[1;36m0\u001b[0m\u001b[1;33m\u001b[0m\u001b[1;33m\u001b[0m\u001b[0m\n\u001b[0;32m      4\u001b[0m     \u001b[0mg\u001b[0m\u001b[1;33m=\u001b[0m\u001b[0msns\u001b[0m\u001b[1;33m.\u001b[0m\u001b[0mcountplot\u001b[0m\u001b[1;33m(\u001b[0m\u001b[0my\u001b[0m\u001b[1;33m=\u001b[0m\u001b[0my\u001b[0m\u001b[1;33m,\u001b[0m\u001b[0mdata\u001b[0m\u001b[1;33m=\u001b[0m\u001b[0mpcDf\u001b[0m\u001b[1;33m,\u001b[0m\u001b[0max\u001b[0m\u001b[1;33m=\u001b[0m\u001b[0max\u001b[0m\u001b[1;33m[\u001b[0m\u001b[0mint\u001b[0m\u001b[1;33m(\u001b[0m\u001b[0mnp\u001b[0m\u001b[1;33m.\u001b[0m\u001b[0mfloor\u001b[0m\u001b[1;33m(\u001b[0m\u001b[0mi\u001b[0m\u001b[1;33m/\u001b[0m\u001b[1;36m2\u001b[0m\u001b[1;33m)\u001b[0m\u001b[1;33m)\u001b[0m\u001b[1;33m,\u001b[0m\u001b[0mn\u001b[0m\u001b[1;33m]\u001b[0m\u001b[1;33m,\u001b[0m\u001b[0morient\u001b[0m\u001b[1;33m=\u001b[0m\u001b[1;34m'h'\u001b[0m\u001b[1;33m,\u001b[0m\u001b[0morder\u001b[0m\u001b[1;33m=\u001b[0m\u001b[0mpcDf\u001b[0m\u001b[1;33m[\u001b[0m\u001b[0my\u001b[0m\u001b[1;33m]\u001b[0m\u001b[1;33m.\u001b[0m\u001b[0mvalue_counts\u001b[0m\u001b[1;33m(\u001b[0m\u001b[1;33m)\u001b[0m\u001b[1;33m.\u001b[0m\u001b[0miloc\u001b[0m\u001b[1;33m[\u001b[0m\u001b[1;33m:\u001b[0m\u001b[1;36m8\u001b[0m\u001b[1;33m]\u001b[0m\u001b[1;33m.\u001b[0m\u001b[0mindex\u001b[0m\u001b[1;33m)\u001b[0m\u001b[1;33m\u001b[0m\u001b[1;33m\u001b[0m\u001b[0m\n\u001b[1;32m----> 5\u001b[1;33m     \u001b[0mg\u001b[0m\u001b[1;33m.\u001b[0m\u001b[0mbar_label\u001b[0m\u001b[1;33m(\u001b[0m\u001b[0mg\u001b[0m\u001b[1;33m.\u001b[0m\u001b[0mcontainers\u001b[0m\u001b[1;33m[\u001b[0m\u001b[1;36m0\u001b[0m\u001b[1;33m]\u001b[0m\u001b[1;33m)\u001b[0m\u001b[1;33m\u001b[0m\u001b[1;33m\u001b[0m\u001b[0m\n\u001b[0m\u001b[0;32m      6\u001b[0m \u001b[0mfig\u001b[0m\u001b[1;33m.\u001b[0m\u001b[0mshow\u001b[0m\u001b[1;33m(\u001b[0m\u001b[1;33m)\u001b[0m\u001b[1;33m\u001b[0m\u001b[1;33m\u001b[0m\u001b[0m\n",
      "\u001b[1;31mAttributeError\u001b[0m: 'AxesSubplot' object has no attribute 'bar_label'"
     ]
    },
    {
     "data": {
      "image/png": "[encoded data removed]",
      "text/plain": [
       "<Figure size 1080x720 with 10 Axes>"
      ]
     },
     "metadata": {},
     "output_type": "display_data"
    }
   ],
   "source": [
    "fig, ax = plt.subplots(int(np.ceil(len(qualitativeVariable)/2)), 2, figsize=(15, 10), tight_layout=True)\n",
    "for i,y in enumerate(qualitativeVariable):\n",
    "    n=1 if i%2==0 else 0\n",
    "    g=sns.countplot(y=y,data=pcDf,ax=ax[int(np.floor(i/2)),n],orient='h',order=pcDf[y].value_counts().iloc[:8].index)\n",
    "    g.bar_label(g.containers[0])\n",
    "fig.show()"
   ]
  },
  {
   "cell_type": "code",
   "execution_count": null,
   "metadata": {
    "pycharm": {
     "name": "#%%\n"
    }
   },
   "outputs": [],
   "source": [
    "pcDf"
   ]
  },
  {
   "cell_type": "code",
   "execution_count": null,
   "metadata": {
    "pycharm": {
     "name": "#%%\n"
    }
   },
   "outputs": [],
   "source": [
    "fig, ax = plt.subplots(len(quantitativeVariable), 1, figsize=(8, 15), tight_layout=True)\n",
    "for idx, feature in enumerate(quantitativeVariable):\n",
    "    sns.boxplot(data=pcDf, x=feature, ax = ax[idx])\n",
    "fig.show()"
   ]
  },
  {
   "cell_type": "markdown",
   "metadata": {
    "pycharm": {
     "name": "#%% md\n"
    }
   },
   "source": [
    "### Bivariate Analysis"
   ]
  },
  {
   "cell_type": "code",
   "execution_count": 30,
   "metadata": {
    "pycharm": {
     "name": "#%%\n"
    }
   },
   "outputs": [],
   "source": [
    "pcDf=pcDf.drop('Product ID',axis=1)\n"
   ]
  },
  {
   "cell_type": "code",
   "execution_count": null,
   "metadata": {
    "pycharm": {
     "name": "#%%\n"
    }
   },
   "outputs": [],
   "source": [
    "fig, ax = plt.subplots(figsize=(10,10))\n",
    "# corr_matrix = pcDf.phik_matrix(interval_cols=pcDf.columns)\n",
    "corr_matrix =pcDf.phik_matrix()\n",
    "sns.heatmap(corr_matrix, annot = True, linewidths=.8,center = 0,cmap=\"crest\").set_title('Correlation Matrix')"
   ]
  },
  {
   "cell_type": "code",
   "execution_count": null,
   "metadata": {
    "pycharm": {
     "name": "#%%\n"
    }
   },
   "outputs": [],
   "source": [
    "class MultiColumnLabelEncoder:\n",
    "    def __init__(self,columns = None):\n",
    "        self.columns = columns # array of column names to encode\n",
    "\n",
    "    def fit(self,X,y=None):\n",
    "        return self # not relevant here\n",
    "\n",
    "    def transform(self,X):\n",
    "        '''\n",
    "        Transforms columns of X specified in self.columns using\n",
    "        LabelEncoder(). If no columns specified, transforms all\n",
    "        columns in X.\n",
    "        '''\n",
    "        output = X.copy()\n",
    "        if self.columns is not None:\n",
    "            for col in self.columns:\n",
    "                output[col] = LabelEncoder().fit_transform(output[col])\n",
    "        else:\n",
    "            for colname,col in output.iteritems():\n",
    "                output[colname] = LabelEncoder().fit_transform(col)\n",
    "        return output\n",
    "\n",
    "    def fit_transform(self,X,y=None):\n",
    "        return self.fit(X,y).transform(X)"
   ]
  },
  {
   "cell_type": "code",
   "execution_count": null,
   "metadata": {
    "pycharm": {
     "name": "#%%\n"
    }
   },
   "outputs": [],
   "source": [
    "vifdf=pcDf.copy()\n",
    "#Label Encoding on the Package attribute\n",
    "from sklearn.preprocessing import LabelEncoder\n",
    "# creating instance of labelencoder\n",
    "labelencoder = LabelEncoder()\n",
    "#Assigning numerical values and storing in another column\n",
    "vif=MultiColumnLabelEncoder(columns = qualitativeVariable).fit_transform(vifdf)\n",
    "\n",
    "\n",
    "vif[quantitativeVariable]=StandardScaler().fit_transform(vif[quantitativeVariable])"
   ]
  },
  {
   "cell_type": "code",
   "execution_count": null,
   "metadata": {
    "pycharm": {
     "name": "#%%\n"
    }
   },
   "outputs": [],
   "source": [
    "from statsmodels.stats.outliers_influence import variance_inflation_factor\n",
    "\n",
    "def calc_vif(X):\n",
    "\n",
    "    # Calculating VIF\n",
    "    vif = pd.DataFrame()\n",
    "    vif[\"variables\"] = X.columns\n",
    "    vif[\"VIF\"] = [variance_inflation_factor(X.values, i) for i in range(X.shape[1])]\n",
    "\n",
    "    return(vif)"
   ]
  },
  {
   "cell_type": "code",
   "execution_count": null,
   "metadata": {
    "pycharm": {
     "name": "#%%\n"
    }
   },
   "outputs": [],
   "source": [
    "calc_vif(vif)"
   ]
  },
  {
   "cell_type": "markdown",
   "metadata": {
    "pycharm": {
     "name": "#%% md\n"
    }
   },
   "source": [
    "#### Seperate Target and Features\n"
   ]
  },
  {
   "cell_type": "code",
   "execution_count": 31,
   "metadata": {
    "pycharm": {
     "name": "#%%\n"
    }
   },
   "outputs": [],
   "source": [
    "x,y=pcDf.drop('Price ($)',axis=1),pcDf['Price ($)']\n"
   ]
  },
  {
   "cell_type": "markdown",
   "metadata": {
    "pycharm": {
     "name": "#%% md\n"
    }
   },
   "source": [
    "#### Training Set and Test Set"
   ]
  },
  {
   "cell_type": "code",
   "execution_count": 32,
   "metadata": {
    "pycharm": {
     "name": "#%%\n"
    }
   },
   "outputs": [],
   "source": [
    "x_train,x_test,y_train,y_test =train_test_split(x,y,test_size=0.2,shuffle=True,random_state=42)"
   ]
  },
  {
   "cell_type": "markdown",
   "metadata": {
    "pycharm": {
     "name": "#%% md\n"
    }
   },
   "source": [
    "### Feature Selection"
   ]
  },
  {
   "cell_type": "code",
   "execution_count": 33,
   "metadata": {
    "pycharm": {
     "name": "#%%\n"
    }
   },
   "outputs": [],
   "source": [
    "import pandas as pd\n",
    "\n",
    "from category_encoders import HashingEncoder\n",
    "from mlxtend.feature_selection import SequentialFeatureSelector\n",
    "from category_encoders.one_hot import OneHotEncoder\n",
    "from sklearn.pipeline import Pipeline\n",
    "from sklearn.compose import ColumnTransformer\n",
    "from sklearn.compose import make_column_selector\n",
    "from xgboost import XGBRegressor\n",
    "from sklearn.pipeline import Pipeline\n",
    "from sklearn.compose import ColumnTransformer\n",
    "\n",
    "from sklearn.compose import make_column_selector\n",
    "\n",
    "# def featureSelection(X,y,n='all',cv=5):\n",
    "#     class converter():\n",
    "#         def __init__(self):\n",
    "#             super().__init__()\n",
    "\n",
    "#         def fit_transform(self, X, y=None):\n",
    "#             return self.transform(X=X, y=y)\n",
    "\n",
    "#         def transform(self, X, y=None):\n",
    "#             return pd.DataFrame(X)\n",
    "\n",
    "#         def fit(self, X, y=None):\n",
    "#             return self\n",
    "#     def get_pipeline():\n",
    "\n",
    "#         preprocessor = ColumnTransformer(transformers=[\n",
    "#             ('Hashing Encoding', HashingEncoder(n_components=32,cols=None), make_column_selector(dtype_exclude=\"number\"))\n",
    "#         ], remainder=\"passthrough\")\n",
    "\n",
    "#         clf = Pipeline(steps=[\n",
    "#             ## Column selector requires a dataframe while Column Tranformer returns a np array\n",
    "#             ('df_converter', converter()),\n",
    "#             ('Hashing',preprocessor),\n",
    "#             ('classifier', XGBRegressor(n_jobs=-1))\n",
    "#         ])\n",
    "\n",
    "#         return clf\n",
    "\n",
    "#     if (n=='all'):\n",
    "#         n=len(X.columns)\n",
    "#         print(n)\n",
    "#     record=pd.DataFrame({'score':[],'best':[],'no':[]})\n",
    "#     for i in range(1,n+1):\n",
    "#         print(i)\n",
    "#         sfs=SequentialFeatureSelector(get_pipeline(),\n",
    "#                k_features=i,\n",
    "#                forward=True,\n",
    "#                floating=False,\n",
    "#                scoring='mean_absolute_error',\n",
    "#                cv=cv).fit(X, y)\n",
    "#         record=pd.concat([record,pd.DataFrame({'score':[sfs.k_score_],'best':[sfs.k_feature_names_],'no':[i]})],ignore_index=True)\n",
    "\n",
    "#     return record"
   ]
  },
  {
   "cell_type": "code",
   "execution_count": 34,
   "metadata": {
    "pycharm": {
     "name": "#%%\n"
    }
   },
   "outputs": [],
   "source": [
    "# featureEvaluation=featureSelection(x_train,y_train)\n",
    "# featureEvaluation"
   ]
  },
  {
   "cell_type": "code",
   "execution_count": 35,
   "metadata": {
    "pycharm": {
     "name": "#%%\n"
    }
   },
   "outputs": [],
   "source": [
    "# sns.lineplot(x='no',y='score',data=featureEvaluation)"
   ]
  },
  {
   "cell_type": "code",
   "execution_count": 36,
   "metadata": {
    "pycharm": {
     "name": "#%%\n"
    }
   },
   "outputs": [],
   "source": [
    "# featureSelected=np.array(featureEvaluation.best[11])"
   ]
  },
  {
   "cell_type": "code",
   "execution_count": 37,
   "metadata": {
    "pycharm": {
     "name": "#%%\n"
    }
   },
   "outputs": [],
   "source": [
    "featureSelected=['Screen Size','Weight','RAM','Brand','Type','CPU','GPU','Operating System','SSD','Flash Storage','Resolution','HDD']\n",
    "x_train=x_train[featureSelected]\n",
    "x_test=x_test[featureSelected]"
   ]
  },
  {
   "cell_type": "code",
   "execution_count": 38,
   "metadata": {
    "pycharm": {
     "name": "#%%\n"
    }
   },
   "outputs": [
    {
     "data": {
      "text/html": [
       "<div>\n",
       "<style scoped>\n",
       "    .dataframe tbody tr th:only-of-type {\n",
       "        vertical-align: middle;\n",
       "    }\n",
       "\n",
       "    .dataframe tbody tr th {\n",
       "        vertical-align: top;\n",
       "    }\n",
       "\n",
       "    .dataframe thead th {\n",
       "        text-align: right;\n",
       "    }\n",
       "</style>\n",
       "<table border=\"1\" class=\"dataframe\">\n",
       "  <thead>\n",
       "    <tr style=\"text-align: right;\">\n",
       "      <th></th>\n",
       "      <th>Screen Size</th>\n",
       "      <th>Weight</th>\n",
       "      <th>RAM</th>\n",
       "      <th>Brand</th>\n",
       "      <th>Type</th>\n",
       "      <th>CPU</th>\n",
       "      <th>GPU</th>\n",
       "      <th>Operating System</th>\n",
       "      <th>SSD</th>\n",
       "      <th>Flash Storage</th>\n",
       "      <th>Resolution</th>\n",
       "      <th>HDD</th>\n",
       "    </tr>\n",
       "  </thead>\n",
       "  <tbody>\n",
       "    <tr>\n",
       "      <th>8217</th>\n",
       "      <td>17.3</td>\n",
       "      <td>2.80</td>\n",
       "      <td>6</td>\n",
       "      <td>Lenovo</td>\n",
       "      <td>Notebook</td>\n",
       "      <td>Intel Core i7 7500U 2.7GHz</td>\n",
       "      <td>Nvidia GeForce 940MX</td>\n",
       "      <td>Windows 10</td>\n",
       "      <td>128</td>\n",
       "      <td>0</td>\n",
       "      <td>1600x900</td>\n",
       "      <td>1000</td>\n",
       "    </tr>\n",
       "    <tr>\n",
       "      <th>4093</th>\n",
       "      <td>15.6</td>\n",
       "      <td>2.18</td>\n",
       "      <td>4</td>\n",
       "      <td>Dell</td>\n",
       "      <td>Notebook</td>\n",
       "      <td>Intel Core i5 7200U 2.5GHz</td>\n",
       "      <td>Intel HD Graphics 620</td>\n",
       "      <td>Windows 10</td>\n",
       "      <td>0</td>\n",
       "      <td>0</td>\n",
       "      <td>1920x1080</td>\n",
       "      <td>1000</td>\n",
       "    </tr>\n",
       "    <tr>\n",
       "      <th>15182</th>\n",
       "      <td>15.6</td>\n",
       "      <td>2.62</td>\n",
       "      <td>8</td>\n",
       "      <td>Dell</td>\n",
       "      <td>Gaming</td>\n",
       "      <td>Intel Core i7 7700HQ 2.8GHz</td>\n",
       "      <td>Nvidia GeForce GTX 1050 Ti</td>\n",
       "      <td>Windows 10</td>\n",
       "      <td>128</td>\n",
       "      <td>0</td>\n",
       "      <td>3840x2160</td>\n",
       "      <td>1000</td>\n",
       "    </tr>\n",
       "    <tr>\n",
       "      <th>15014</th>\n",
       "      <td>15.6</td>\n",
       "      <td>2.40</td>\n",
       "      <td>4</td>\n",
       "      <td>Acer</td>\n",
       "      <td>Notebook</td>\n",
       "      <td>Intel Pentium Quad Core N4200 1.1GHz</td>\n",
       "      <td>Intel HD Graphics 505</td>\n",
       "      <td>Windows 10</td>\n",
       "      <td>0</td>\n",
       "      <td>0</td>\n",
       "      <td>1366x768</td>\n",
       "      <td>500</td>\n",
       "    </tr>\n",
       "    <tr>\n",
       "      <th>12629</th>\n",
       "      <td>15.6</td>\n",
       "      <td>1.88</td>\n",
       "      <td>8</td>\n",
       "      <td>HP</td>\n",
       "      <td>Ultrabook</td>\n",
       "      <td>Intel Core i7 6500U 2.5GHz</td>\n",
       "      <td>Intel HD Graphics 520</td>\n",
       "      <td>Windows 7</td>\n",
       "      <td>256</td>\n",
       "      <td>0</td>\n",
       "      <td>1920x1080</td>\n",
       "      <td>0</td>\n",
       "    </tr>\n",
       "    <tr>\n",
       "      <th>...</th>\n",
       "      <td>...</td>\n",
       "      <td>...</td>\n",
       "      <td>...</td>\n",
       "      <td>...</td>\n",
       "      <td>...</td>\n",
       "      <td>...</td>\n",
       "      <td>...</td>\n",
       "      <td>...</td>\n",
       "      <td>...</td>\n",
       "      <td>...</td>\n",
       "      <td>...</td>\n",
       "      <td>...</td>\n",
       "    </tr>\n",
       "    <tr>\n",
       "      <th>5191</th>\n",
       "      <td>17.3</td>\n",
       "      <td>2.43</td>\n",
       "      <td>16</td>\n",
       "      <td>MSI</td>\n",
       "      <td>Gaming</td>\n",
       "      <td>Intel Core i7 7700HQ 2.8GHz</td>\n",
       "      <td>Nvidia GeForce GTX 1070</td>\n",
       "      <td>Windows 10</td>\n",
       "      <td>256</td>\n",
       "      <td>0</td>\n",
       "      <td>1920x1080</td>\n",
       "      <td>2000</td>\n",
       "    </tr>\n",
       "    <tr>\n",
       "      <th>13418</th>\n",
       "      <td>15.6</td>\n",
       "      <td>2.20</td>\n",
       "      <td>8</td>\n",
       "      <td>Lenovo</td>\n",
       "      <td>Notebook</td>\n",
       "      <td>Intel Core i7 7500U 2.7GHz</td>\n",
       "      <td>Nvidia GeForce 920MX</td>\n",
       "      <td>Windows 10</td>\n",
       "      <td>0</td>\n",
       "      <td>0</td>\n",
       "      <td>1920x1080</td>\n",
       "      <td>1000</td>\n",
       "    </tr>\n",
       "    <tr>\n",
       "      <th>5390</th>\n",
       "      <td>17.3</td>\n",
       "      <td>2.90</td>\n",
       "      <td>16</td>\n",
       "      <td>HP</td>\n",
       "      <td>Notebook</td>\n",
       "      <td>Intel Core i7 8550U 1.8GHz</td>\n",
       "      <td>Nvidia GeForce MX150</td>\n",
       "      <td>Windows 10</td>\n",
       "      <td>0</td>\n",
       "      <td>0</td>\n",
       "      <td>1920x1080</td>\n",
       "      <td>1000</td>\n",
       "    </tr>\n",
       "    <tr>\n",
       "      <th>860</th>\n",
       "      <td>15.6</td>\n",
       "      <td>2.30</td>\n",
       "      <td>8</td>\n",
       "      <td>Lenovo</td>\n",
       "      <td>Notebook</td>\n",
       "      <td>Intel Core i5 7200U 2.5GHz</td>\n",
       "      <td>Intel HD Graphics 620</td>\n",
       "      <td>Windows 10</td>\n",
       "      <td>0</td>\n",
       "      <td>0</td>\n",
       "      <td>1920x1080</td>\n",
       "      <td>1000</td>\n",
       "    </tr>\n",
       "    <tr>\n",
       "      <th>7270</th>\n",
       "      <td>15.6</td>\n",
       "      <td>2.04</td>\n",
       "      <td>8</td>\n",
       "      <td>HP</td>\n",
       "      <td>Notebook</td>\n",
       "      <td>Intel Core i7 7500U 2.7GHz</td>\n",
       "      <td>Nvidia GeForce 930MX</td>\n",
       "      <td>Windows 10</td>\n",
       "      <td>256</td>\n",
       "      <td>0</td>\n",
       "      <td>1920x1080</td>\n",
       "      <td>0</td>\n",
       "    </tr>\n",
       "  </tbody>\n",
       "</table>\n",
       "<p>12256 rows × 12 columns</p>\n",
       "</div>"
      ],
      "text/plain": [
       "       Screen Size  Weight  RAM   Brand       Type  \\\n",
       "8217          17.3    2.80    6  Lenovo   Notebook   \n",
       "4093          15.6    2.18    4    Dell   Notebook   \n",
       "15182         15.6    2.62    8    Dell     Gaming   \n",
       "15014         15.6    2.40    4    Acer   Notebook   \n",
       "12629         15.6    1.88    8      HP  Ultrabook   \n",
       "...            ...     ...  ...     ...        ...   \n",
       "5191          17.3    2.43   16     MSI     Gaming   \n",
       "13418         15.6    2.20    8  Lenovo   Notebook   \n",
       "5390          17.3    2.90   16      HP   Notebook   \n",
       "860           15.6    2.30    8  Lenovo   Notebook   \n",
       "7270          15.6    2.04    8      HP   Notebook   \n",
       "\n",
       "                                        CPU                         GPU  \\\n",
       "8217             Intel Core i7 7500U 2.7GHz        Nvidia GeForce 940MX   \n",
       "4093             Intel Core i5 7200U 2.5GHz       Intel HD Graphics 620   \n",
       "15182           Intel Core i7 7700HQ 2.8GHz  Nvidia GeForce GTX 1050 Ti   \n",
       "15014  Intel Pentium Quad Core N4200 1.1GHz       Intel HD Graphics 505   \n",
       "12629            Intel Core i7 6500U 2.5GHz       Intel HD Graphics 520   \n",
       "...                                     ...                         ...   \n",
       "5191            Intel Core i7 7700HQ 2.8GHz     Nvidia GeForce GTX 1070   \n",
       "13418            Intel Core i7 7500U 2.7GHz        Nvidia GeForce 920MX   \n",
       "5390             Intel Core i7 8550U 1.8GHz        Nvidia GeForce MX150   \n",
       "860              Intel Core i5 7200U 2.5GHz       Intel HD Graphics 620   \n",
       "7270             Intel Core i7 7500U 2.7GHz        Nvidia GeForce 930MX   \n",
       "\n",
       "      Operating System  SSD  Flash Storage Resolution   HDD  \n",
       "8217        Windows 10  128              0   1600x900  1000  \n",
       "4093        Windows 10    0              0  1920x1080  1000  \n",
       "15182       Windows 10  128              0  3840x2160  1000  \n",
       "15014       Windows 10    0              0   1366x768   500  \n",
       "12629        Windows 7  256              0  1920x1080     0  \n",
       "...                ...  ...            ...        ...   ...  \n",
       "5191        Windows 10  256              0  1920x1080  2000  \n",
       "13418       Windows 10    0              0  1920x1080  1000  \n",
       "5390        Windows 10    0              0  1920x1080  1000  \n",
       "860         Windows 10    0              0  1920x1080  1000  \n",
       "7270        Windows 10  256              0  1920x1080     0  \n",
       "\n",
       "[12256 rows x 12 columns]"
      ]
     },
     "execution_count": 38,
     "metadata": {},
     "output_type": "execute_result"
    }
   ],
   "source": [
    "x_train"
   ]
  },
  {
   "cell_type": "markdown",
   "metadata": {
    "pycharm": {
     "name": "#%% md\n"
    }
   },
   "source": [
    "### Feature  Scaling"
   ]
  },
  {
   "cell_type": "code",
   "execution_count": 39,
   "metadata": {
    "pycharm": {
     "name": "#%%\n"
    }
   },
   "outputs": [],
   "source": [
    "import category_encoders\n",
    "from category_encoders.hashing import HashingEncoder\n",
    "from sklearn.compose import make_column_selector\n",
    "\n",
    "quantitativeTransformer=Pipeline([\n",
    "     ('StandardScaler',StandardScaler())\n",
    "])\n",
    "categorical_transformers = Pipeline([\n",
    "    ('Hashing Encoder', HashingEncoder(max_process=1))\n",
    "])\n",
    "data_preprocessing = ColumnTransformer([\n",
    "    ('Preprocess Numerical Features', quantitativeTransformer, make_column_selector(dtype_include='number')),\n",
    "       ('Preprocess Categorical Features', categorical_transformers,make_column_selector(dtype_exclude='number'))\n",
    "])\n"
   ]
  },
  {
   "cell_type": "markdown",
   "metadata": {
    "pycharm": {
     "name": "#%% md\n"
    }
   },
   "source": [
    "## Evaluation"
   ]
  },
  {
   "cell_type": "code",
   "execution_count": 40,
   "metadata": {
    "pycharm": {
     "name": "#%%\n"
    }
   },
   "outputs": [],
   "source": [
    "def scoreModel(clf,x,y,algName=None,record=pd.DataFrame({'name':[],'train_neg_mean_absolute_error':[],'test_neg_mean_absolute_error':[],'train_neg_mean_absolute_percentage_error':[],\n",
    " 'test_neg_mean_absolute_percentage_error':[],\n",
    " 'train_neg_root_mean_squared_error':[],\n",
    " 'test_neg_root_mean_squared_error':[]\n",
    "                                                 })):\n",
    "    '''\n",
    "    This function is used for model evaluation . This function use scikit-learn library to carry out cross validation using StratifiedKFold.\n",
    "\n",
    "    :param clf: Classifier 分类器\n",
    "    :param x:Train Data X(Data)  训练数据 （数据）\n",
    "    :param y:Train Data Y(Result)  训练数据（结果）\n",
    "    :param algName: Name of Algorithm used for recording 算法名字\n",
    "    :param record: History record dataframe 在历史记录上叠加结果\n",
    "    :return:\n",
    "    This function return 3 variable: 这个函数返回三个参数\n",
    "    record: Dataframe with current and past record(if there is any)\n",
    "    current: Dataframe with current record\n",
    "    lr: Learning curve\n",
    "    '''\n",
    "    score=cross_validate(clf,x,y,cv=KFold(n_splits = 5, shuffle = True, random_state = 0,),scoring=[\"neg_mean_absolute_error\", \"neg_mean_absolute_percentage_error\", \"neg_root_mean_squared_error\"],n_jobs=-1,return_estimator=True,return_train_score=True)\n",
    "\n",
    "    current=pd.DataFrame({'name':[algName],'train_neg_mean_absolute_error':score['train_neg_mean_absolute_error'].mean(),'test_neg_mean_absolute_error':score['test_neg_mean_absolute_error'].mean(),'train_neg_mean_absolute_percentage_error':score['train_neg_mean_absolute_percentage_error'].mean(),'test_neg_mean_absolute_percentage_error':score['test_neg_mean_absolute_percentage_error'].mean(),\n",
    "     'traing_neg_root_mean_squared_error':score['train_neg_root_mean_squared_error'].mean(),\n",
    "         'test_neg_root_mean_squared_error':score['test_neg_root_mean_squared_error'].mean(),\n",
    "                          })\n",
    "    record=pd.concat([record,current],ignore_index=True)\n",
    "    lr = learning_curve(clf, x, y, scoring = 'neg_mean_absolute_error', cv = KFold(n_splits = 5, shuffle = True, random_state = 0,), n_jobs=-1)\n",
    "    return record,current,lr"
   ]
  },
  {
   "cell_type": "code",
   "execution_count": 41,
   "metadata": {
    "pycharm": {
     "name": "#%%\n"
    }
   },
   "outputs": [],
   "source": [
    "def func(x):\n",
    "     return np.log(x)\n",
    "def inverse_func(x):\n",
    "     return np.exp(x)"
   ]
  },
  {
   "cell_type": "code",
   "execution_count": 42,
   "metadata": {
    "pycharm": {
     "name": "#%%\n"
    }
   },
   "outputs": [
    {
     "data": {
      "image/png": "[encoded data removed]",
      "text/plain": [
       "<Figure size 576x396 with 1 Axes>"
      ]
     },
     "metadata": {},
     "output_type": "display_data"
    },
    {
     "data": {
      "text/html": [
       "<div>\n",
       "<style scoped>\n",
       "    .dataframe tbody tr th:only-of-type {\n",
       "        vertical-align: middle;\n",
       "    }\n",
       "\n",
       "    .dataframe tbody tr th {\n",
       "        vertical-align: top;\n",
       "    }\n",
       "\n",
       "    .dataframe thead th {\n",
       "        text-align: right;\n",
       "    }\n",
       "</style>\n",
       "<table border=\"1\" class=\"dataframe\">\n",
       "  <thead>\n",
       "    <tr style=\"text-align: right;\">\n",
       "      <th></th>\n",
       "      <th>name</th>\n",
       "      <th>train_neg_mean_absolute_error</th>\n",
       "      <th>test_neg_mean_absolute_error</th>\n",
       "      <th>train_neg_mean_absolute_percentage_error</th>\n",
       "      <th>test_neg_mean_absolute_percentage_error</th>\n",
       "      <th>traing_neg_root_mean_squared_error</th>\n",
       "      <th>test_neg_root_mean_squared_error</th>\n",
       "    </tr>\n",
       "  </thead>\n",
       "  <tbody>\n",
       "    <tr>\n",
       "      <th>0</th>\n",
       "      <td>Baseline</td>\n",
       "      <td>-1384.923138</td>\n",
       "      <td>-1384.972964</td>\n",
       "      <td>-0.58425</td>\n",
       "      <td>-0.584298</td>\n",
       "      <td>-1908.213895</td>\n",
       "      <td>-1908.209499</td>\n",
       "    </tr>\n",
       "  </tbody>\n",
       "</table>\n",
       "</div>"
      ],
      "text/plain": [
       "       name  train_neg_mean_absolute_error  test_neg_mean_absolute_error  \\\n",
       "0  Baseline                   -1384.923138                  -1384.972964   \n",
       "\n",
       "   train_neg_mean_absolute_percentage_error  \\\n",
       "0                                  -0.58425   \n",
       "\n",
       "   test_neg_mean_absolute_percentage_error  \\\n",
       "0                                -0.584298   \n",
       "\n",
       "   traing_neg_root_mean_squared_error  test_neg_root_mean_squared_error  \n",
       "0                        -1908.213895                      -1908.209499  "
      ]
     },
     "execution_count": 42,
     "metadata": {},
     "output_type": "execute_result"
    }
   ],
   "source": [
    "baseline = Pipeline([\n",
    "    ('Data Preprocessing', data_preprocessing),\n",
    "    ('Model', TransformedTargetRegressor(regressor=DummyRegressor(),func=func, inverse_func=inverse_func))\n",
    "])\n",
    "\n",
    "record, scores, lr = scoreModel(baseline, x_train, y_train, algName=\"Baseline\")\n",
    "scores"
   ]
  },
  {
   "cell_type": "code",
   "execution_count": 43,
   "metadata": {
    "pycharm": {
     "name": "#%%\n"
    }
   },
   "outputs": [
    {
     "data": {
      "image/png": "[encoded data removed]",
      "text/plain": [
       "<Figure size 576x396 with 1 Axes>"
      ]
     },
     "metadata": {},
     "output_type": "display_data"
    },
    {
     "data": {
      "text/html": [
       "<div>\n",
       "<style scoped>\n",
       "    .dataframe tbody tr th:only-of-type {\n",
       "        vertical-align: middle;\n",
       "    }\n",
       "\n",
       "    .dataframe tbody tr th {\n",
       "        vertical-align: top;\n",
       "    }\n",
       "\n",
       "    .dataframe thead th {\n",
       "        text-align: right;\n",
       "    }\n",
       "</style>\n",
       "<table border=\"1\" class=\"dataframe\">\n",
       "  <thead>\n",
       "    <tr style=\"text-align: right;\">\n",
       "      <th></th>\n",
       "      <th>name</th>\n",
       "      <th>train_neg_mean_absolute_error</th>\n",
       "      <th>test_neg_mean_absolute_error</th>\n",
       "      <th>train_neg_mean_absolute_percentage_error</th>\n",
       "      <th>test_neg_mean_absolute_percentage_error</th>\n",
       "      <th>traing_neg_root_mean_squared_error</th>\n",
       "      <th>test_neg_root_mean_squared_error</th>\n",
       "    </tr>\n",
       "  </thead>\n",
       "  <tbody>\n",
       "    <tr>\n",
       "      <th>0</th>\n",
       "      <td>Random Forest Regressor</td>\n",
       "      <td>-31.108805</td>\n",
       "      <td>-37.213227</td>\n",
       "      <td>-0.012607</td>\n",
       "      <td>-0.014897</td>\n",
       "      <td>-116.760885</td>\n",
       "      <td>-130.437904</td>\n",
       "    </tr>\n",
       "  </tbody>\n",
       "</table>\n",
       "</div>"
      ],
      "text/plain": [
       "                      name  train_neg_mean_absolute_error  \\\n",
       "0  Random Forest Regressor                     -31.108805   \n",
       "\n",
       "   test_neg_mean_absolute_error  train_neg_mean_absolute_percentage_error  \\\n",
       "0                    -37.213227                                 -0.012607   \n",
       "\n",
       "   test_neg_mean_absolute_percentage_error  \\\n",
       "0                                -0.014897   \n",
       "\n",
       "   traing_neg_root_mean_squared_error  test_neg_root_mean_squared_error  \n",
       "0                         -116.760885                       -130.437904  "
      ]
     },
     "execution_count": 43,
     "metadata": {},
     "output_type": "execute_result"
    }
   ],
   "source": [
    "rf = Pipeline([\n",
    "    ('Data Preprocessing', data_preprocessing),\n",
    "    ('Log',TransformedTargetRegressor(regressor=RandomForestRegressor(criterion='absolute_error',n_jobs=-1),func=func, inverse_func=inverse_func)),\n",
    "\n",
    "])\n",
    "\n",
    "record,scores, lr = scoreModel(rf, x_train, y_train, algName=\"Random Forest Regressor\", record=record)\n",
    "scores"
   ]
  },
  {
   "cell_type": "code",
   "execution_count": 44,
   "metadata": {
    "pycharm": {
     "name": "#%%\n"
    }
   },
   "outputs": [
    {
     "ename": "ValueError",
     "evalue": "Invalid parameter Model for estimator Pipeline(steps=[('Data Preprocessing',\n                 ColumnTransformer(transformers=[('Preprocess Numerical '\n                                                  'Features',\n                                                  Pipeline(steps=[('StandardScaler',\n                                                                   StandardScaler())]),\n                                                  <sklearn.compose._column_transformer.make_column_selector object at 0x000001F8B89A45C8>),\n                                                 ('Preprocess Categorical '\n                                                  'Features',\n                                                  Pipeline(steps=[('Hashing '\n                                                                   'Encoder',\n                                                                   HashingEncoder(max_process=1))]),\n                                                  <sklearn.compose._column_transformer.make_column_selector object at 0x000001F8B99707C8>)])),\n                ('Log',\n                 TransformedTargetRegressor(func=<function func at 0x000001F8B8986AF8>,\n                                            inverse_func=<function inverse_func at 0x000001F8B9B91708>,\n                                            regressor=RandomForestRegressor(criterion='absolute_error',\n                                                                            n_jobs=-1)))]). Check the list of available parameters with `estimator.get_params().keys()`.",
     "output_type": "error",
     "traceback": [
      "\u001b[1;31m---------------------------------------------------------------------------\u001b[0m",
      "\u001b[1;31m_RemoteTraceback\u001b[0m                          Traceback (most recent call last)",
      "\u001b[1;31m_RemoteTraceback\u001b[0m: \n\"\"\"\nTraceback (most recent call last):\n  File \"C:\\ProgramData\\Anaconda3\\lib\\site-packages\\joblib\\externals\\loky\\process_executor.py\", line 418, in _process_worker\n    r = call_item()\n  File \"C:\\ProgramData\\Anaconda3\\lib\\site-packages\\joblib\\externals\\loky\\process_executor.py\", line 272, in __call__\n    return self.fn(*self.args, **self.kwargs)\n  File \"C:\\ProgramData\\Anaconda3\\lib\\site-packages\\joblib\\_parallel_backends.py\", line 608, in __call__\n    return self.func(*args, **kwargs)\n  File \"C:\\ProgramData\\Anaconda3\\lib\\site-packages\\joblib\\parallel.py\", line 256, in __call__\n    for func, args, kwargs in self.items]\n  File \"C:\\ProgramData\\Anaconda3\\lib\\site-packages\\joblib\\parallel.py\", line 256, in <listcomp>\n    for func, args, kwargs in self.items]\n  File \"C:\\Users\\p2100746\\AppData\\Roaming\\Python\\Python37\\site-packages\\sklearn\\utils\\fixes.py\", line 216, in __call__\n    return self.function(*args, **kwargs)\n  File \"C:\\Users\\p2100746\\AppData\\Roaming\\Python\\Python37\\site-packages\\sklearn\\model_selection\\_validation.py\", line 668, in _fit_and_score\n    estimator = estimator.set_params(**cloned_parameters)\n  File \"C:\\Users\\p2100746\\AppData\\Roaming\\Python\\Python37\\site-packages\\sklearn\\pipeline.py\", line 188, in set_params\n    self._set_params(\"steps\", **kwargs)\n  File \"C:\\Users\\p2100746\\AppData\\Roaming\\Python\\Python37\\site-packages\\sklearn\\utils\\metaestimators.py\", line 54, in _set_params\n    super().set_params(**params)\n  File \"C:\\Users\\p2100746\\AppData\\Roaming\\Python\\Python37\\site-packages\\sklearn\\base.py\", line 248, in set_params\n    \"with `estimator.get_params().keys()`.\" % (key, self)\nValueError: Invalid parameter Model for estimator Pipeline(steps=[('Data Preprocessing',\n                 ColumnTransformer(transformers=[('Preprocess Numerical '\n                                                  'Features',\n                                                  Pipeline(steps=[('StandardScaler',\n                                                                   StandardScaler())]),\n                                                  <sklearn.compose._column_transformer.make_column_selector object at 0x000001F8B89A45C8>),\n                                                 ('Preprocess Categorical '\n                                                  'Features',\n                                                  Pipeline(steps=[('Hashing '\n                                                                   'Encoder',\n                                                                   HashingEncoder(max_process=1))]),\n                                                  <sklearn.compose._column_transformer.make_column_selector object at 0x000001F8B99707C8>)])),\n                ('Log',\n                 TransformedTargetRegressor(func=<function func at 0x000001F8B8986AF8>,\n                                            inverse_func=<function inverse_func at 0x000001F8B9B91708>,\n                                            regressor=RandomForestRegressor(criterion='absolute_error',\n                                                                            n_jobs=-1)))]). Check the list of available parameters with `estimator.get_params().keys()`.\n\"\"\"",
      "\nThe above exception was the direct cause of the following exception:\n",
      "\u001b[1;31mValueError\u001b[0m                                Traceback (most recent call last)",
      "\u001b[1;32m<ipython-input-44-92c8a169514b>\u001b[0m in \u001b[0;36m<module>\u001b[1;34m\u001b[0m\n\u001b[0;32m      6\u001b[0m \u001b[1;33m\u001b[0m\u001b[0m\n\u001b[0;32m      7\u001b[0m \u001b[0mparameter\u001b[0m\u001b[1;33m=\u001b[0m\u001b[1;33m{\u001b[0m\u001b[1;34m'Model__max_depth'\u001b[0m\u001b[1;33m:\u001b[0m\u001b[0mnp\u001b[0m\u001b[1;33m.\u001b[0m\u001b[0marange\u001b[0m\u001b[1;33m(\u001b[0m\u001b[1;36m9\u001b[0m\u001b[1;33m,\u001b[0m\u001b[1;36m30\u001b[0m\u001b[1;33m)\u001b[0m\u001b[1;33m,\u001b[0m\u001b[1;34m'Model__ccp_alpha'\u001b[0m\u001b[1;33m:\u001b[0m\u001b[0mnp\u001b[0m\u001b[1;33m.\u001b[0m\u001b[0marange\u001b[0m\u001b[1;33m(\u001b[0m\u001b[1;36m0.0027\u001b[0m\u001b[1;33m,\u001b[0m\u001b[1;36m0.0127\u001b[0m\u001b[1;33m,\u001b[0m\u001b[1;36m0.002\u001b[0m\u001b[1;33m)\u001b[0m\u001b[1;33m}\u001b[0m\u001b[1;33m\u001b[0m\u001b[1;33m\u001b[0m\u001b[0m\n\u001b[1;32m----> 8\u001b[1;33m \u001b[0mpd\u001b[0m\u001b[1;33m.\u001b[0m\u001b[0mDataFrame\u001b[0m\u001b[1;33m(\u001b[0m\u001b[0mHalvingGridSearchCV\u001b[0m\u001b[1;33m(\u001b[0m\u001b[0mrf\u001b[0m\u001b[1;33m,\u001b[0m\u001b[0mparam_grid\u001b[0m\u001b[1;33m=\u001b[0m\u001b[0mparameter\u001b[0m\u001b[1;33m,\u001b[0m\u001b[0mscoring\u001b[0m\u001b[1;33m=\u001b[0m\u001b[1;34m'neg_mean_absolute_error'\u001b[0m\u001b[1;33m,\u001b[0m\u001b[0mn_jobs\u001b[0m\u001b[1;33m=\u001b[0m\u001b[1;33m-\u001b[0m\u001b[1;36m1\u001b[0m\u001b[1;33m)\u001b[0m\u001b[1;33m.\u001b[0m\u001b[0mfit\u001b[0m\u001b[1;33m(\u001b[0m\u001b[0mx_train\u001b[0m\u001b[1;33m,\u001b[0m\u001b[0my_train\u001b[0m\u001b[1;33m)\u001b[0m\u001b[1;33m.\u001b[0m\u001b[0mcv_results_\u001b[0m\u001b[1;33m)\u001b[0m\u001b[1;33m\u001b[0m\u001b[1;33m\u001b[0m\u001b[0m\n\u001b[0m",
      "\u001b[1;32m~\\AppData\\Roaming\\Python\\Python37\\site-packages\\sklearn\\model_selection\\_search_successive_halving.py\u001b[0m in \u001b[0;36mfit\u001b[1;34m(self, X, y, groups, **fit_params)\u001b[0m\n\u001b[0;32m    260\u001b[0m         \u001b[0mself\u001b[0m\u001b[1;33m.\u001b[0m\u001b[0m_n_samples_orig\u001b[0m \u001b[1;33m=\u001b[0m \u001b[0m_num_samples\u001b[0m\u001b[1;33m(\u001b[0m\u001b[0mX\u001b[0m\u001b[1;33m)\u001b[0m\u001b[1;33m\u001b[0m\u001b[1;33m\u001b[0m\u001b[0m\n\u001b[0;32m    261\u001b[0m \u001b[1;33m\u001b[0m\u001b[0m\n\u001b[1;32m--> 262\u001b[1;33m         \u001b[0msuper\u001b[0m\u001b[1;33m(\u001b[0m\u001b[1;33m)\u001b[0m\u001b[1;33m.\u001b[0m\u001b[0mfit\u001b[0m\u001b[1;33m(\u001b[0m\u001b[0mX\u001b[0m\u001b[1;33m,\u001b[0m \u001b[0my\u001b[0m\u001b[1;33m=\u001b[0m\u001b[0my\u001b[0m\u001b[1;33m,\u001b[0m \u001b[0mgroups\u001b[0m\u001b[1;33m=\u001b[0m\u001b[0mgroups\u001b[0m\u001b[1;33m,\u001b[0m \u001b[1;33m**\u001b[0m\u001b[0mfit_params\u001b[0m\u001b[1;33m)\u001b[0m\u001b[1;33m\u001b[0m\u001b[1;33m\u001b[0m\u001b[0m\n\u001b[0m\u001b[0;32m    263\u001b[0m \u001b[1;33m\u001b[0m\u001b[0m\n\u001b[0;32m    264\u001b[0m         \u001b[1;31m# Set best_score_: BaseSearchCV does not set it, as refit is a callable\u001b[0m\u001b[1;33m\u001b[0m\u001b[1;33m\u001b[0m\u001b[1;33m\u001b[0m\u001b[0m\n",
      "\u001b[1;32m~\\AppData\\Roaming\\Python\\Python37\\site-packages\\sklearn\\model_selection\\_search.py\u001b[0m in \u001b[0;36mfit\u001b[1;34m(self, X, y, groups, **fit_params)\u001b[0m\n\u001b[0;32m    889\u001b[0m                 \u001b[1;32mreturn\u001b[0m \u001b[0mresults\u001b[0m\u001b[1;33m\u001b[0m\u001b[1;33m\u001b[0m\u001b[0m\n\u001b[0;32m    890\u001b[0m \u001b[1;33m\u001b[0m\u001b[0m\n\u001b[1;32m--> 891\u001b[1;33m             \u001b[0mself\u001b[0m\u001b[1;33m.\u001b[0m\u001b[0m_run_search\u001b[0m\u001b[1;33m(\u001b[0m\u001b[0mevaluate_candidates\u001b[0m\u001b[1;33m)\u001b[0m\u001b[1;33m\u001b[0m\u001b[1;33m\u001b[0m\u001b[0m\n\u001b[0m\u001b[0;32m    892\u001b[0m \u001b[1;33m\u001b[0m\u001b[0m\n\u001b[0;32m    893\u001b[0m             \u001b[1;31m# multimetric is determined here because in the case of a callable\u001b[0m\u001b[1;33m\u001b[0m\u001b[1;33m\u001b[0m\u001b[1;33m\u001b[0m\u001b[0m\n",
      "\u001b[1;32m~\\AppData\\Roaming\\Python\\Python37\\site-packages\\sklearn\\model_selection\\_search_successive_halving.py\u001b[0m in \u001b[0;36m_run_search\u001b[1;34m(self, evaluate_candidates)\u001b[0m\n\u001b[0;32m    366\u001b[0m \u001b[1;33m\u001b[0m\u001b[0m\n\u001b[0;32m    367\u001b[0m             results = evaluate_candidates(\n\u001b[1;32m--> 368\u001b[1;33m                 \u001b[0mcandidate_params\u001b[0m\u001b[1;33m,\u001b[0m \u001b[0mcv\u001b[0m\u001b[1;33m,\u001b[0m \u001b[0mmore_results\u001b[0m\u001b[1;33m=\u001b[0m\u001b[0mmore_results\u001b[0m\u001b[1;33m\u001b[0m\u001b[1;33m\u001b[0m\u001b[0m\n\u001b[0m\u001b[0;32m    369\u001b[0m             )\n\u001b[0;32m    370\u001b[0m \u001b[1;33m\u001b[0m\u001b[0m\n",
      "\u001b[1;32m~\\AppData\\Roaming\\Python\\Python37\\site-packages\\sklearn\\model_selection\\_search.py\u001b[0m in \u001b[0;36mevaluate_candidates\u001b[1;34m(candidate_params, cv, more_results)\u001b[0m\n\u001b[0;32m    849\u001b[0m                     )\n\u001b[0;32m    850\u001b[0m                     for (cand_idx, parameters), (split_idx, (train, test)) in product(\n\u001b[1;32m--> 851\u001b[1;33m                         \u001b[0menumerate\u001b[0m\u001b[1;33m(\u001b[0m\u001b[0mcandidate_params\u001b[0m\u001b[1;33m)\u001b[0m\u001b[1;33m,\u001b[0m \u001b[0menumerate\u001b[0m\u001b[1;33m(\u001b[0m\u001b[0mcv\u001b[0m\u001b[1;33m.\u001b[0m\u001b[0msplit\u001b[0m\u001b[1;33m(\u001b[0m\u001b[0mX\u001b[0m\u001b[1;33m,\u001b[0m \u001b[0my\u001b[0m\u001b[1;33m,\u001b[0m \u001b[0mgroups\u001b[0m\u001b[1;33m)\u001b[0m\u001b[1;33m)\u001b[0m\u001b[1;33m\u001b[0m\u001b[1;33m\u001b[0m\u001b[0m\n\u001b[0m\u001b[0;32m    852\u001b[0m                     )\n\u001b[0;32m    853\u001b[0m                 )\n",
      "\u001b[1;32mC:\\ProgramData\\Anaconda3\\lib\\site-packages\\joblib\\parallel.py\u001b[0m in \u001b[0;36m__call__\u001b[1;34m(self, iterable)\u001b[0m\n\u001b[0;32m   1015\u001b[0m \u001b[1;33m\u001b[0m\u001b[0m\n\u001b[0;32m   1016\u001b[0m             \u001b[1;32mwith\u001b[0m \u001b[0mself\u001b[0m\u001b[1;33m.\u001b[0m\u001b[0m_backend\u001b[0m\u001b[1;33m.\u001b[0m\u001b[0mretrieval_context\u001b[0m\u001b[1;33m(\u001b[0m\u001b[1;33m)\u001b[0m\u001b[1;33m:\u001b[0m\u001b[1;33m\u001b[0m\u001b[1;33m\u001b[0m\u001b[0m\n\u001b[1;32m-> 1017\u001b[1;33m                 \u001b[0mself\u001b[0m\u001b[1;33m.\u001b[0m\u001b[0mretrieve\u001b[0m\u001b[1;33m(\u001b[0m\u001b[1;33m)\u001b[0m\u001b[1;33m\u001b[0m\u001b[1;33m\u001b[0m\u001b[0m\n\u001b[0m\u001b[0;32m   1018\u001b[0m             \u001b[1;31m# Make sure that we get a last message telling us we are done\u001b[0m\u001b[1;33m\u001b[0m\u001b[1;33m\u001b[0m\u001b[1;33m\u001b[0m\u001b[0m\n\u001b[0;32m   1019\u001b[0m             \u001b[0melapsed_time\u001b[0m \u001b[1;33m=\u001b[0m \u001b[0mtime\u001b[0m\u001b[1;33m.\u001b[0m\u001b[0mtime\u001b[0m\u001b[1;33m(\u001b[0m\u001b[1;33m)\u001b[0m \u001b[1;33m-\u001b[0m \u001b[0mself\u001b[0m\u001b[1;33m.\u001b[0m\u001b[0m_start_time\u001b[0m\u001b[1;33m\u001b[0m\u001b[1;33m\u001b[0m\u001b[0m\n",
      "\u001b[1;32mC:\\ProgramData\\Anaconda3\\lib\\site-packages\\joblib\\parallel.py\u001b[0m in \u001b[0;36mretrieve\u001b[1;34m(self)\u001b[0m\n\u001b[0;32m    907\u001b[0m             \u001b[1;32mtry\u001b[0m\u001b[1;33m:\u001b[0m\u001b[1;33m\u001b[0m\u001b[1;33m\u001b[0m\u001b[0m\n\u001b[0;32m    908\u001b[0m                 \u001b[1;32mif\u001b[0m \u001b[0mgetattr\u001b[0m\u001b[1;33m(\u001b[0m\u001b[0mself\u001b[0m\u001b[1;33m.\u001b[0m\u001b[0m_backend\u001b[0m\u001b[1;33m,\u001b[0m \u001b[1;34m'supports_timeout'\u001b[0m\u001b[1;33m,\u001b[0m \u001b[1;32mFalse\u001b[0m\u001b[1;33m)\u001b[0m\u001b[1;33m:\u001b[0m\u001b[1;33m\u001b[0m\u001b[1;33m\u001b[0m\u001b[0m\n\u001b[1;32m--> 909\u001b[1;33m                     \u001b[0mself\u001b[0m\u001b[1;33m.\u001b[0m\u001b[0m_output\u001b[0m\u001b[1;33m.\u001b[0m\u001b[0mextend\u001b[0m\u001b[1;33m(\u001b[0m\u001b[0mjob\u001b[0m\u001b[1;33m.\u001b[0m\u001b[0mget\u001b[0m\u001b[1;33m(\u001b[0m\u001b[0mtimeout\u001b[0m\u001b[1;33m=\u001b[0m\u001b[0mself\u001b[0m\u001b[1;33m.\u001b[0m\u001b[0mtimeout\u001b[0m\u001b[1;33m)\u001b[0m\u001b[1;33m)\u001b[0m\u001b[1;33m\u001b[0m\u001b[1;33m\u001b[0m\u001b[0m\n\u001b[0m\u001b[0;32m    910\u001b[0m                 \u001b[1;32melse\u001b[0m\u001b[1;33m:\u001b[0m\u001b[1;33m\u001b[0m\u001b[1;33m\u001b[0m\u001b[0m\n\u001b[0;32m    911\u001b[0m                     \u001b[0mself\u001b[0m\u001b[1;33m.\u001b[0m\u001b[0m_output\u001b[0m\u001b[1;33m.\u001b[0m\u001b[0mextend\u001b[0m\u001b[1;33m(\u001b[0m\u001b[0mjob\u001b[0m\u001b[1;33m.\u001b[0m\u001b[0mget\u001b[0m\u001b[1;33m(\u001b[0m\u001b[1;33m)\u001b[0m\u001b[1;33m)\u001b[0m\u001b[1;33m\u001b[0m\u001b[1;33m\u001b[0m\u001b[0m\n",
      "\u001b[1;32mC:\\ProgramData\\Anaconda3\\lib\\site-packages\\joblib\\_parallel_backends.py\u001b[0m in \u001b[0;36mwrap_future_result\u001b[1;34m(future, timeout)\u001b[0m\n\u001b[0;32m    560\u001b[0m         AsyncResults.get from multiprocessing.\"\"\"\n\u001b[0;32m    561\u001b[0m         \u001b[1;32mtry\u001b[0m\u001b[1;33m:\u001b[0m\u001b[1;33m\u001b[0m\u001b[1;33m\u001b[0m\u001b[0m\n\u001b[1;32m--> 562\u001b[1;33m             \u001b[1;32mreturn\u001b[0m \u001b[0mfuture\u001b[0m\u001b[1;33m.\u001b[0m\u001b[0mresult\u001b[0m\u001b[1;33m(\u001b[0m\u001b[0mtimeout\u001b[0m\u001b[1;33m=\u001b[0m\u001b[0mtimeout\u001b[0m\u001b[1;33m)\u001b[0m\u001b[1;33m\u001b[0m\u001b[1;33m\u001b[0m\u001b[0m\n\u001b[0m\u001b[0;32m    563\u001b[0m         \u001b[1;32mexcept\u001b[0m \u001b[0mLokyTimeoutError\u001b[0m\u001b[1;33m:\u001b[0m\u001b[1;33m\u001b[0m\u001b[1;33m\u001b[0m\u001b[0m\n\u001b[0;32m    564\u001b[0m             \u001b[1;32mraise\u001b[0m \u001b[0mTimeoutError\u001b[0m\u001b[1;33m(\u001b[0m\u001b[1;33m)\u001b[0m\u001b[1;33m\u001b[0m\u001b[1;33m\u001b[0m\u001b[0m\n",
      "\u001b[1;32mC:\\ProgramData\\Anaconda3\\lib\\concurrent\\futures\\_base.py\u001b[0m in \u001b[0;36mresult\u001b[1;34m(self, timeout)\u001b[0m\n\u001b[0;32m    433\u001b[0m                 \u001b[1;32mraise\u001b[0m \u001b[0mCancelledError\u001b[0m\u001b[1;33m(\u001b[0m\u001b[1;33m)\u001b[0m\u001b[1;33m\u001b[0m\u001b[1;33m\u001b[0m\u001b[0m\n\u001b[0;32m    434\u001b[0m             \u001b[1;32melif\u001b[0m \u001b[0mself\u001b[0m\u001b[1;33m.\u001b[0m\u001b[0m_state\u001b[0m \u001b[1;33m==\u001b[0m \u001b[0mFINISHED\u001b[0m\u001b[1;33m:\u001b[0m\u001b[1;33m\u001b[0m\u001b[1;33m\u001b[0m\u001b[0m\n\u001b[1;32m--> 435\u001b[1;33m                 \u001b[1;32mreturn\u001b[0m \u001b[0mself\u001b[0m\u001b[1;33m.\u001b[0m\u001b[0m__get_result\u001b[0m\u001b[1;33m(\u001b[0m\u001b[1;33m)\u001b[0m\u001b[1;33m\u001b[0m\u001b[1;33m\u001b[0m\u001b[0m\n\u001b[0m\u001b[0;32m    436\u001b[0m             \u001b[1;32melse\u001b[0m\u001b[1;33m:\u001b[0m\u001b[1;33m\u001b[0m\u001b[1;33m\u001b[0m\u001b[0m\n\u001b[0;32m    437\u001b[0m                 \u001b[1;32mraise\u001b[0m \u001b[0mTimeoutError\u001b[0m\u001b[1;33m(\u001b[0m\u001b[1;33m)\u001b[0m\u001b[1;33m\u001b[0m\u001b[1;33m\u001b[0m\u001b[0m\n",
      "\u001b[1;32mC:\\ProgramData\\Anaconda3\\lib\\concurrent\\futures\\_base.py\u001b[0m in \u001b[0;36m__get_result\u001b[1;34m(self)\u001b[0m\n\u001b[0;32m    382\u001b[0m     \u001b[1;32mdef\u001b[0m \u001b[0m__get_result\u001b[0m\u001b[1;33m(\u001b[0m\u001b[0mself\u001b[0m\u001b[1;33m)\u001b[0m\u001b[1;33m:\u001b[0m\u001b[1;33m\u001b[0m\u001b[1;33m\u001b[0m\u001b[0m\n\u001b[0;32m    383\u001b[0m         \u001b[1;32mif\u001b[0m \u001b[0mself\u001b[0m\u001b[1;33m.\u001b[0m\u001b[0m_exception\u001b[0m\u001b[1;33m:\u001b[0m\u001b[1;33m\u001b[0m\u001b[1;33m\u001b[0m\u001b[0m\n\u001b[1;32m--> 384\u001b[1;33m             \u001b[1;32mraise\u001b[0m \u001b[0mself\u001b[0m\u001b[1;33m.\u001b[0m\u001b[0m_exception\u001b[0m\u001b[1;33m\u001b[0m\u001b[1;33m\u001b[0m\u001b[0m\n\u001b[0m\u001b[0;32m    385\u001b[0m         \u001b[1;32melse\u001b[0m\u001b[1;33m:\u001b[0m\u001b[1;33m\u001b[0m\u001b[1;33m\u001b[0m\u001b[0m\n\u001b[0;32m    386\u001b[0m             \u001b[1;32mreturn\u001b[0m \u001b[0mself\u001b[0m\u001b[1;33m.\u001b[0m\u001b[0m_result\u001b[0m\u001b[1;33m\u001b[0m\u001b[1;33m\u001b[0m\u001b[0m\n",
      "\u001b[1;31mValueError\u001b[0m: Invalid parameter Model for estimator Pipeline(steps=[('Data Preprocessing',\n                 ColumnTransformer(transformers=[('Preprocess Numerical '\n                                                  'Features',\n                                                  Pipeline(steps=[('StandardScaler',\n                                                                   StandardScaler())]),\n                                                  <sklearn.compose._column_transformer.make_column_selector object at 0x000001F8B89A45C8>),\n                                                 ('Preprocess Categorical '\n                                                  'Features',\n                                                  Pipeline(steps=[('Hashing '\n                                                                   'Encoder',\n                                                                   HashingEncoder(max_process=1))]),\n                                                  <sklearn.compose._column_transformer.make_column_selector object at 0x000001F8B99707C8>)])),\n                ('Log',\n                 TransformedTargetRegressor(func=<function func at 0x000001F8B8986AF8>,\n                                            inverse_func=<function inverse_func at 0x000001F8B9B91708>,\n                                            regressor=RandomForestRegressor(criterion='absolute_error',\n                                                                            n_jobs=-1)))]). Check the list of available parameters with `estimator.get_params().keys()`."
     ]
    }
   ],
   "source": [
    "# explicitly require this experimental feature\n",
    "from sklearn.experimental import enable_halving_search_cv # noqa\n",
    "# now you can import normally from model_selection\n",
    "from sklearn.model_selection import HalvingGridSearchCV\n",
    "\n",
    "\n",
    "parameter={'Model__max_depth':np.arange(9,30),'Model__ccp_alpha':np.arange(0.0027,0.0127,0.002)}\n",
    "pd.DataFrame(HalvingGridSearchCV(rf,param_grid=parameter,scoring='neg_mean_absolute_error',n_jobs=-1).fit(x_train,y_train).cv_results_)"
   ]
  },
  {
   "cell_type": "code",
   "execution_count": 45,
   "metadata": {
    "pycharm": {
     "name": "#%%\n"
    }
   },
   "outputs": [
    {
     "data": {
      "image/png": "[encoded data removed]",
      "text/plain": [
       "<Figure size 576x396 with 1 Axes>"
      ]
     },
     "metadata": {},
     "output_type": "display_data"
    },
    {
     "data": {
      "text/html": [
       "<div>\n",
       "<style scoped>\n",
       "    .dataframe tbody tr th:only-of-type {\n",
       "        vertical-align: middle;\n",
       "    }\n",
       "\n",
       "    .dataframe tbody tr th {\n",
       "        vertical-align: top;\n",
       "    }\n",
       "\n",
       "    .dataframe thead th {\n",
       "        text-align: right;\n",
       "    }\n",
       "</style>\n",
       "<table border=\"1\" class=\"dataframe\">\n",
       "  <thead>\n",
       "    <tr style=\"text-align: right;\">\n",
       "      <th></th>\n",
       "      <th>name</th>\n",
       "      <th>train_neg_mean_absolute_error</th>\n",
       "      <th>test_neg_mean_absolute_error</th>\n",
       "      <th>train_neg_mean_absolute_percentage_error</th>\n",
       "      <th>test_neg_mean_absolute_percentage_error</th>\n",
       "      <th>traing_neg_root_mean_squared_error</th>\n",
       "      <th>test_neg_root_mean_squared_error</th>\n",
       "    </tr>\n",
       "  </thead>\n",
       "  <tbody>\n",
       "    <tr>\n",
       "      <th>0</th>\n",
       "      <td>Extra Tree Regressor</td>\n",
       "      <td>-28.439493</td>\n",
       "      <td>-35.194355</td>\n",
       "      <td>-0.01191</td>\n",
       "      <td>-0.01466</td>\n",
       "      <td>-133.296839</td>\n",
       "      <td>-149.260823</td>\n",
       "    </tr>\n",
       "  </tbody>\n",
       "</table>\n",
       "</div>"
      ],
      "text/plain": [
       "                   name  train_neg_mean_absolute_error  \\\n",
       "0  Extra Tree Regressor                     -28.439493   \n",
       "\n",
       "   test_neg_mean_absolute_error  train_neg_mean_absolute_percentage_error  \\\n",
       "0                    -35.194355                                  -0.01191   \n",
       "\n",
       "   test_neg_mean_absolute_percentage_error  \\\n",
       "0                                 -0.01466   \n",
       "\n",
       "   traing_neg_root_mean_squared_error  test_neg_root_mean_squared_error  \n",
       "0                         -133.296839                       -149.260823  "
      ]
     },
     "execution_count": 45,
     "metadata": {},
     "output_type": "execute_result"
    }
   ],
   "source": [
    "ex = Pipeline([\n",
    "    ('Data Preprocessing', data_preprocessing),\n",
    "     ('Log',TransformedTargetRegressor(regressor=ExtraTreesRegressor(criterion='absolute_error',n_jobs=-1),func=func, inverse_func=inverse_func)),\n",
    "])\n",
    "# explicitly require this experimental feature\n",
    "from sklearn.experimental import enable_halving_search_cv # noqa\n",
    "# now you can import normally from model_selection\n",
    "from sklearn.model_selection import HalvingGridSearchCV\n",
    "\n",
    "\n",
    "# parameter={'Model__max_depth':np.arange(2,30),'Model__ccp_alpha':np.arange(0.0027,0.0427,0.002),'Model__n_estimators':np.arange(10,150,10)}\n",
    "# pd.DataFrame(HalvingGridSearchCV(ex,param_grid=parameter,scoring='neg_mean_absolute_error',n_jobs=-1).fit(x_train,y_train).cv_results_)\n",
    "record,scores, lr = scoreModel(ex, x_train, y_train, algName=\"Extra Tree Regressor\", record=record)\n",
    "scores"
   ]
  },
  {
   "cell_type": "code",
   "execution_count": 46,
   "metadata": {
    "pycharm": {
     "name": "#%%\n"
    }
   },
   "outputs": [
    {
     "data": {
      "image/png": "[encoded data removed]",
      "text/plain": [
       "<Figure size 576x396 with 1 Axes>"
      ]
     },
     "metadata": {},
     "output_type": "display_data"
    },
    {
     "data": {
      "text/html": [
       "<div>\n",
       "<style scoped>\n",
       "    .dataframe tbody tr th:only-of-type {\n",
       "        vertical-align: middle;\n",
       "    }\n",
       "\n",
       "    .dataframe tbody tr th {\n",
       "        vertical-align: top;\n",
       "    }\n",
       "\n",
       "    .dataframe thead th {\n",
       "        text-align: right;\n",
       "    }\n",
       "</style>\n",
       "<table border=\"1\" class=\"dataframe\">\n",
       "  <thead>\n",
       "    <tr style=\"text-align: right;\">\n",
       "      <th></th>\n",
       "      <th>name</th>\n",
       "      <th>train_neg_mean_absolute_error</th>\n",
       "      <th>test_neg_mean_absolute_error</th>\n",
       "      <th>train_neg_mean_absolute_percentage_error</th>\n",
       "      <th>test_neg_mean_absolute_percentage_error</th>\n",
       "      <th>traing_neg_root_mean_squared_error</th>\n",
       "      <th>test_neg_root_mean_squared_error</th>\n",
       "    </tr>\n",
       "  </thead>\n",
       "  <tbody>\n",
       "    <tr>\n",
       "      <th>0</th>\n",
       "      <td>Gradient Boosting Regressor</td>\n",
       "      <td>-543.237009</td>\n",
       "      <td>-554.211009</td>\n",
       "      <td>-0.199655</td>\n",
       "      <td>-0.203524</td>\n",
       "      <td>-830.131389</td>\n",
       "      <td>-843.47942</td>\n",
       "    </tr>\n",
       "  </tbody>\n",
       "</table>\n",
       "</div>"
      ],
      "text/plain": [
       "                          name  train_neg_mean_absolute_error  \\\n",
       "0  Gradient Boosting Regressor                    -543.237009   \n",
       "\n",
       "   test_neg_mean_absolute_error  train_neg_mean_absolute_percentage_error  \\\n",
       "0                   -554.211009                                 -0.199655   \n",
       "\n",
       "   test_neg_mean_absolute_percentage_error  \\\n",
       "0                                -0.203524   \n",
       "\n",
       "   traing_neg_root_mean_squared_error  test_neg_root_mean_squared_error  \n",
       "0                         -830.131389                        -843.47942  "
      ]
     },
     "execution_count": 46,
     "metadata": {},
     "output_type": "execute_result"
    }
   ],
   "source": [
    "gbm = Pipeline([\n",
    "    ('Data Preprocessing', data_preprocessing),\n",
    "    ('Log',TransformedTargetRegressor(regressor=GradientBoostingRegressor(criterion='absolute_error'),func=func, inverse_func=inverse_func)),\n",
    "])\n",
    "\n",
    "record,scores, lr = scoreModel(gbm, x_train, y_train, algName=\"Gradient Boosting Regressor\", record=record)\n",
    "scores"
   ]
  },
  {
   "cell_type": "code",
   "execution_count": 47,
   "metadata": {
    "pycharm": {
     "name": "#%%\n"
    }
   },
   "outputs": [
    {
     "data": {
      "image/png": "[encoded data removed]",
      "text/plain": [
       "<Figure size 576x396 with 1 Axes>"
      ]
     },
     "metadata": {},
     "output_type": "display_data"
    },
    {
     "data": {
      "text/html": [
       "<div>\n",
       "<style scoped>\n",
       "    .dataframe tbody tr th:only-of-type {\n",
       "        vertical-align: middle;\n",
       "    }\n",
       "\n",
       "    .dataframe tbody tr th {\n",
       "        vertical-align: top;\n",
       "    }\n",
       "\n",
       "    .dataframe thead th {\n",
       "        text-align: right;\n",
       "    }\n",
       "</style>\n",
       "<table border=\"1\" class=\"dataframe\">\n",
       "  <thead>\n",
       "    <tr style=\"text-align: right;\">\n",
       "      <th></th>\n",
       "      <th>name</th>\n",
       "      <th>train_neg_mean_absolute_error</th>\n",
       "      <th>test_neg_mean_absolute_error</th>\n",
       "      <th>train_neg_mean_absolute_percentage_error</th>\n",
       "      <th>test_neg_mean_absolute_percentage_error</th>\n",
       "      <th>traing_neg_root_mean_squared_error</th>\n",
       "      <th>test_neg_root_mean_squared_error</th>\n",
       "    </tr>\n",
       "  </thead>\n",
       "  <tbody>\n",
       "    <tr>\n",
       "      <th>0</th>\n",
       "      <td>HistGradient Boosting Regressor</td>\n",
       "      <td>-288.618299</td>\n",
       "      <td>-308.728884</td>\n",
       "      <td>-0.100992</td>\n",
       "      <td>-0.107714</td>\n",
       "      <td>-440.547764</td>\n",
       "      <td>-471.104014</td>\n",
       "    </tr>\n",
       "  </tbody>\n",
       "</table>\n",
       "</div>"
      ],
      "text/plain": [
       "                              name  train_neg_mean_absolute_error  \\\n",
       "0  HistGradient Boosting Regressor                    -288.618299   \n",
       "\n",
       "   test_neg_mean_absolute_error  train_neg_mean_absolute_percentage_error  \\\n",
       "0                   -308.728884                                 -0.100992   \n",
       "\n",
       "   test_neg_mean_absolute_percentage_error  \\\n",
       "0                                -0.107714   \n",
       "\n",
       "   traing_neg_root_mean_squared_error  test_neg_root_mean_squared_error  \n",
       "0                         -440.547764                       -471.104014  "
      ]
     },
     "execution_count": 47,
     "metadata": {},
     "output_type": "execute_result"
    }
   ],
   "source": [
    "from sklearn.ensemble import HistGradientBoostingRegressor\n",
    "hgbm = Pipeline([\n",
    "    ('Data Preprocessing', data_preprocessing),\n",
    "    ('Log',TransformedTargetRegressor(regressor=HistGradientBoostingRegressor(),func=func, inverse_func=inverse_func)),\n",
    "])\n",
    "\n",
    "record,scores, lr = scoreModel(hgbm, x_train, y_train, algName=\"HistGradient Boosting Regressor\", record=record)\n",
    "scores"
   ]
  },
  {
   "cell_type": "code",
   "execution_count": 49,
   "metadata": {
    "pycharm": {
     "name": "#%%\n"
    }
   },
   "outputs": [
    {
     "data": {
      "image/png": "[encoded data removed]",
      "text/plain": [
       "<Figure size 576x396 with 1 Axes>"
      ]
     },
     "metadata": {},
     "output_type": "display_data"
    },
    {
     "data": {
      "text/html": [
       "<div>\n",
       "<style scoped>\n",
       "    .dataframe tbody tr th:only-of-type {\n",
       "        vertical-align: middle;\n",
       "    }\n",
       "\n",
       "    .dataframe tbody tr th {\n",
       "        vertical-align: top;\n",
       "    }\n",
       "\n",
       "    .dataframe thead th {\n",
       "        text-align: right;\n",
       "    }\n",
       "</style>\n",
       "<table border=\"1\" class=\"dataframe\">\n",
       "  <thead>\n",
       "    <tr style=\"text-align: right;\">\n",
       "      <th></th>\n",
       "      <th>name</th>\n",
       "      <th>train_neg_mean_absolute_error</th>\n",
       "      <th>test_neg_mean_absolute_error</th>\n",
       "      <th>train_neg_mean_absolute_percentage_error</th>\n",
       "      <th>test_neg_mean_absolute_percentage_error</th>\n",
       "      <th>traing_neg_root_mean_squared_error</th>\n",
       "      <th>test_neg_root_mean_squared_error</th>\n",
       "    </tr>\n",
       "  </thead>\n",
       "  <tbody>\n",
       "    <tr>\n",
       "      <th>0</th>\n",
       "      <td>Support Vector Regressor</td>\n",
       "      <td>-400.089916</td>\n",
       "      <td>-415.207226</td>\n",
       "      <td>-0.14568</td>\n",
       "      <td>-0.151815</td>\n",
       "      <td>-592.270126</td>\n",
       "      <td>-613.973439</td>\n",
       "    </tr>\n",
       "  </tbody>\n",
       "</table>\n",
       "</div>"
      ],
      "text/plain": [
       "                       name  train_neg_mean_absolute_error  \\\n",
       "0  Support Vector Regressor                    -400.089916   \n",
       "\n",
       "   test_neg_mean_absolute_error  train_neg_mean_absolute_percentage_error  \\\n",
       "0                   -415.207226                                  -0.14568   \n",
       "\n",
       "   test_neg_mean_absolute_percentage_error  \\\n",
       "0                                -0.151815   \n",
       "\n",
       "   traing_neg_root_mean_squared_error  test_neg_root_mean_squared_error  \n",
       "0                         -592.270126                       -613.973439  "
      ]
     },
     "execution_count": 49,
     "metadata": {},
     "output_type": "execute_result"
    }
   ],
   "source": [
    "from sklearn.svm import SVR\n",
    "\n",
    "svr = Pipeline([\n",
    "    ('Data Preprocessing', data_preprocessing),\n",
    "    ('Log',TransformedTargetRegressor(regressor=SVR(),func=func, inverse_func=inverse_func)),\n",
    "\n",
    "\n",
    "])\n",
    "\n",
    "\n",
    "\n",
    "# parameter={'Model__C':np.arange(2,15)}\n",
    "# pd.DataFrame(HalvingGridSearchCV(svr,param_grid=parameter,scoring='neg_mean_absolute_error',n_jobs=-1).fit(x_train,y_train).cv_results_)\n",
    "\n",
    "record,scores, lr = scoreModel(svr, x_train, y_train, algName=\"Support Vector Regressor\", record=record)\n",
    "scores"
   ]
  },
  {
   "cell_type": "code",
   "execution_count": 50,
   "metadata": {
    "pycharm": {
     "name": "#%%\n"
    }
   },
   "outputs": [
    {
     "data": {
      "image/png": "[encoded data removed]",
      "text/plain": [
       "<Figure size 576x396 with 1 Axes>"
      ]
     },
     "metadata": {},
     "output_type": "display_data"
    },
    {
     "data": {
      "text/html": [
       "<div>\n",
       "<style scoped>\n",
       "    .dataframe tbody tr th:only-of-type {\n",
       "        vertical-align: middle;\n",
       "    }\n",
       "\n",
       "    .dataframe tbody tr th {\n",
       "        vertical-align: top;\n",
       "    }\n",
       "\n",
       "    .dataframe thead th {\n",
       "        text-align: right;\n",
       "    }\n",
       "</style>\n",
       "<table border=\"1\" class=\"dataframe\">\n",
       "  <thead>\n",
       "    <tr style=\"text-align: right;\">\n",
       "      <th></th>\n",
       "      <th>name</th>\n",
       "      <th>train_neg_mean_absolute_error</th>\n",
       "      <th>test_neg_mean_absolute_error</th>\n",
       "      <th>train_neg_mean_absolute_percentage_error</th>\n",
       "      <th>test_neg_mean_absolute_percentage_error</th>\n",
       "      <th>traing_neg_root_mean_squared_error</th>\n",
       "      <th>test_neg_root_mean_squared_error</th>\n",
       "    </tr>\n",
       "  </thead>\n",
       "  <tbody>\n",
       "    <tr>\n",
       "      <th>0</th>\n",
       "      <td>k-Nearest Neighbor Regressor</td>\n",
       "      <td>-34.839593</td>\n",
       "      <td>-46.456873</td>\n",
       "      <td>-0.014073</td>\n",
       "      <td>-0.018208</td>\n",
       "      <td>-122.809642</td>\n",
       "      <td>-160.346618</td>\n",
       "    </tr>\n",
       "  </tbody>\n",
       "</table>\n",
       "</div>"
      ],
      "text/plain": [
       "                           name  train_neg_mean_absolute_error  \\\n",
       "0  k-Nearest Neighbor Regressor                     -34.839593   \n",
       "\n",
       "   test_neg_mean_absolute_error  train_neg_mean_absolute_percentage_error  \\\n",
       "0                    -46.456873                                 -0.014073   \n",
       "\n",
       "   test_neg_mean_absolute_percentage_error  \\\n",
       "0                                -0.018208   \n",
       "\n",
       "   traing_neg_root_mean_squared_error  test_neg_root_mean_squared_error  \n",
       "0                         -122.809642                       -160.346618  "
      ]
     },
     "execution_count": 50,
     "metadata": {},
     "output_type": "execute_result"
    }
   ],
   "source": [
    "from sklearn.neighbors import KNeighborsRegressor\n",
    "from sklearn.linear_model import SGDRegressor\n",
    "\n",
    "knn = Pipeline([\n",
    "    ('Data Preprocessing', data_preprocessing),\n",
    "    ('Log',TransformedTargetRegressor(regressor=KNeighborsRegressor(),func=func, inverse_func=inverse_func)),\n",
    "])\n",
    "\n",
    "\n",
    "# parameter={'Model__n_neighbors':np.arange(1,15)}\n",
    "# pd.DataFrame(HalvingGridSearchCV(knn,param_grid=parameter,scoring='neg_mean_absolute_error',n_jobs=-1).fit(x_train,y_train).cv_results_)\n",
    "\n",
    "record,scores, lr = scoreModel(knn, x_train, y_train, algName=\"k-Nearest Neighbor Regressor\", record=record)\n",
    "scores"
   ]
  },
  {
   "cell_type": "code",
   "execution_count": 51,
   "metadata": {
    "pycharm": {
     "name": "#%%\n"
    }
   },
   "outputs": [
    {
     "data": {
      "image/png": "[encoded data removed]",
      "text/plain": [
       "<Figure size 576x396 with 1 Axes>"
      ]
     },
     "metadata": {},
     "output_type": "display_data"
    },
    {
     "data": {
      "text/html": [
       "<div>\n",
       "<style scoped>\n",
       "    .dataframe tbody tr th:only-of-type {\n",
       "        vertical-align: middle;\n",
       "    }\n",
       "\n",
       "    .dataframe tbody tr th {\n",
       "        vertical-align: top;\n",
       "    }\n",
       "\n",
       "    .dataframe thead th {\n",
       "        text-align: right;\n",
       "    }\n",
       "</style>\n",
       "<table border=\"1\" class=\"dataframe\">\n",
       "  <thead>\n",
       "    <tr style=\"text-align: right;\">\n",
       "      <th></th>\n",
       "      <th>name</th>\n",
       "      <th>train_neg_mean_absolute_error</th>\n",
       "      <th>test_neg_mean_absolute_error</th>\n",
       "      <th>train_neg_mean_absolute_percentage_error</th>\n",
       "      <th>test_neg_mean_absolute_percentage_error</th>\n",
       "      <th>traing_neg_root_mean_squared_error</th>\n",
       "      <th>test_neg_root_mean_squared_error</th>\n",
       "    </tr>\n",
       "  </thead>\n",
       "  <tbody>\n",
       "    <tr>\n",
       "      <th>0</th>\n",
       "      <td>eXtreme Gradient Boosting Regressor</td>\n",
       "      <td>-134.594858</td>\n",
       "      <td>-147.131233</td>\n",
       "      <td>-0.049727</td>\n",
       "      <td>-0.054</td>\n",
       "      <td>-220.213964</td>\n",
       "      <td>-244.129293</td>\n",
       "    </tr>\n",
       "  </tbody>\n",
       "</table>\n",
       "</div>"
      ],
      "text/plain": [
       "                                  name  train_neg_mean_absolute_error  \\\n",
       "0  eXtreme Gradient Boosting Regressor                    -134.594858   \n",
       "\n",
       "   test_neg_mean_absolute_error  train_neg_mean_absolute_percentage_error  \\\n",
       "0                   -147.131233                                 -0.049727   \n",
       "\n",
       "   test_neg_mean_absolute_percentage_error  \\\n",
       "0                                   -0.054   \n",
       "\n",
       "   traing_neg_root_mean_squared_error  test_neg_root_mean_squared_error  \n",
       "0                         -220.213964                       -244.129293  "
      ]
     },
     "execution_count": 51,
     "metadata": {},
     "output_type": "execute_result"
    }
   ],
   "source": [
    "from xgboost import XGBRegressor\n",
    "xgb = Pipeline([\n",
    "    ('Data Preprocessing', data_preprocessing),\n",
    "    ('Log',TransformedTargetRegressor(regressor=XGBRegressor(),func=func, inverse_func=inverse_func)),\n",
    "])\n",
    "# parameter={'Model__max_depth':np.arange(1,15),'Model__n_estimators':np.arange(0,100,5),'Model__learning_rate':np.arange(0.1,2,0.1)}\n",
    "# pd.DataFrame(HalvingGridSearchCV(xgb,param_grid=parameter,scoring='neg_mean_absolute_error',n_jobs=-1).fit(x_train,y_train).cv_results_)\n",
    "record,scores, lr = scoreModel(xgb, x_train, y_train, algName=\"eXtreme Gradient Boosting Regressor\", record=record)\n",
    "scores"
   ]
  },
  {
   "cell_type": "code",
   "execution_count": null,
   "metadata": {
    "pycharm": {
     "name": "#%%\n"
    }
   },
   "outputs": [],
   "source": [
    "record"
   ]
  },
  {
   "cell_type": "code",
   "execution_count": null,
   "metadata": {},
   "outputs": [],
   "source": []
  }
 ],
 "metadata": {
  "kernelspec": {
   "display_name": "Python 3",
   "language": "python",
   "name": "python3"
  },
  "language_info": {
   "codemirror_mode": {
    "name": "ipython",
    "version": 3
   },
   "file_extension": ".py",
   "mimetype": "text/x-python",
   "name": "python",
   "nbconvert_exporter": "python",
   "pygments_lexer": "ipython3",
   "version": "3.7.6"
  }
 },
 "nbformat": 4,
 "nbformat_minor": 1
}
